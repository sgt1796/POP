{
 "cells": [
  {
   "cell_type": "code",
   "execution_count": 6,
   "metadata": {},
   "outputs": [],
   "source": [
    "from POP import PromptFunction\n",
    "from openai import OpenAI\n",
    "from dotenv import load_dotenv\n",
    "from os import getenv\n",
    "import re"
   ]
  },
  {
   "cell_type": "code",
   "execution_count": 3,
   "metadata": {},
   "outputs": [
    {
     "name": "stdout",
     "output_type": "stream",
     "text": [
      "{\"action\": \"FETCH_PAGE\", \"args\": {\"query\": \"Dijkstra's algorithm pseudocode\"}}\n"
     ]
    }
   ],
   "source": [
    "pf = PromptFunction('''\n",
    "You are the decision-making module of an agentic system. \n",
    "You have access to the following tools:\n",
    "\n",
    "1) FETCH_PAGE\n",
    "   - Use this when you need to fetch a page from the web. Give the question or any thing on which you need more information, a list of searched info and urls in text form will be given to your next step as result of the query.\n",
    "   - Action format: {\"action\": \"FETCH_PAGE\", \"args\": {\"query\": \"my search query\"}}\n",
    "2) FINAL_ANSWER\n",
    "   - Use this when you have sufficient information to produce the final answer to the user.\n",
    "   - Action format: {\"action\": \"FINAL_ANSWER\"}\n",
    "\n",
    "---\n",
    "\n",
    "**User Query**:\n",
    "{user_query}\n",
    "\n",
    "**Context So Far**:\n",
    "{context}\n",
    "\n",
    "**Goal**:\n",
    "Decide on the single **best next action**. If more information is needed, choose one of the tools. If you have enough info, finalize the answer. \n",
    "\n",
    "**Output Format**:\n",
    "Return a single JSON object with:\n",
    "- \"action\": one of [\"RETRIEVE\", \"FETCH_PAGE\", \"FINAL_ANSWER\"]\n",
    "- \"args\": an object containing any arguments needed for that action\n",
    "\n",
    "Example valid JSON response for calling the retriever tool:\n",
    "{\n",
    "  \"action\": \"RETRIEVE\",\n",
    "  \"args\": {\"query\": \"my refined retrieval query\"}\n",
    "}\n",
    "\n",
    "---\n",
    "\n",
    "Now decide on your next step and output the JSON. Do not include any extra keys or text. Return ONLY the JSON object.\n",
    "''')\n",
    "result = pf.execute(user_query = \"write dijkstra algorithm\")\n",
    "print(result)"
   ]
  },
  {
   "cell_type": "code",
   "execution_count": 11,
   "metadata": {},
   "outputs": [
    {
     "name": "stdout",
     "output_type": "stream",
     "text": [
      "[Choice(finish_reason='stop', index=0, logprobs=None, message=ChatCompletionMessage(content=\"Hello I'm happy to help you explore one of the most fascinating questions in astronomy: how many stars are there in the universe?\\n\\nEstimating the number of stars in the universe is quite challenging, as it involves counting not just the stars in our own galaxy, the Milky Way, but also those in the billions of other galaxies. Here's a breakdown of what we know:\\n\\n1. **Stars in the Milky Way**: Estimates suggest that our galaxy contains between 100 billion and 300 billion stars[1][3][4].\\n\\n2. **Galaxies in the Universe**: There are estimated to be between 100 billion and 2 trillion galaxies in the observable universe[3][4]. \\n\\n3. **Total Stars in the Universe**: If we assume each galaxy has about as many stars as the Milky Way, the total number of stars in the observable universe could be around 70 billion trillion to 200 billion trillion[2][3]. However, some estimates even suggest numbers as high as 70 sextillion stars[5].\\n\\nIt's important to note that these numbers are estimates and can vary based on new discoveries and improvements in telescope technology. The universe is vast, and there may be many more stars beyond what we can currently observe.\\n\\nWould you like to know more about how these estimates are made or anything else related to stars and galaxies?\", role='assistant', function_call=None, tool_calls=None), delta={'role': 'assistant', 'content': ''})]\n"
     ]
    }
   ],
   "source": [
    "load_dotenv()\n",
    "client = OpenAI(api_key=getenv(\"PERPLEXITY_API_KEY\"), base_url=\"https://api.perplexity.ai\")\n",
    "\n",
    "messages = [\n",
    "    {\n",
    "        \"role\": \"system\",\n",
    "        \"content\": (\n",
    "            \"You are an artificial intelligence assistant and you need to \"\n",
    "            \"engage in a helpful, detailed, polite conversation with a user.\"\n",
    "        ),\n",
    "    },\n",
    "    {   \n",
    "        \"role\": \"user\",\n",
    "        \"content\": (\n",
    "            \"How many stars are in the universe?\"\n",
    "        ),\n",
    "    },\n",
    "]\n",
    "\n",
    "# chat completion without streaming\n",
    "response = client.chat.completions.create(\n",
    "    model=\"sonar\",\n",
    "    messages=messages,\n",
    ")\n",
    "print(response.choices)"
   ]
  },
  {
   "cell_type": "code",
   "execution_count": 10,
   "metadata": {},
   "outputs": [
    {
     "name": "stdout",
     "output_type": "stream",
     "text": [
      "```markdown\n",
      "You are the decision-making module of an agentic system. Your task is to determine the optimal next step using the tools available to you. Below is a description of each tool and how to format your action:\n",
      "\n",
      "### Available Tools:\n",
      "\n",
      "1. **RETRIEVE**\n",
      "   - Purpose: Query a knowledge base for relevant information.\n",
      "   - Action format: `{\"action\": \"RETRIEVE\", \"args\": {\"query\": \"<query string>\"}}`\n",
      "\n",
      "2. **FETCH_PAGE**\n",
      "   - Purpose: Fetch webpage content from a specified URL.\n",
      "   - Action format: `{\"action\": \"FETCH_PAGE\", \"args\": {\"url\": \"<web address>\"}}`\n",
      "\n",
      "3. **FINAL_ANSWER**\n",
      "   - Purpose: Use when you have enough information to provide a conclusive answer to the user.\n",
      "   - Action format: `{\"action\": \"FINAL_ANSWER\"}`\n",
      "\n",
      "---\n",
      "\n",
      "### Instructions:\n",
      "\n",
      "- **User Query**: `{user_query}`\n",
      "\n",
      "- **Context So Far**: `{context}`\n",
      "\n",
      "- **Goal**: Determine the single **best next action**. If additional information is required, select one of the tools. If sufficient information is available, provide the final answer.\n",
      "\n",
      "- **Output Format**: Return a single JSON object with the following fields:\n",
      "  - `\"action\"`: One of `[\"RETRIEVE\", \"FETCH_PAGE\", \"FINAL_ANSWER\"]`\n",
      "  - `\"args\"`: An object containing any necessary arguments for the action\n",
      "\n",
      "#### Example JSON for using the retrieve tool:\n",
      "```json\n",
      "{\n",
      "  \"action\": \"RETRIEVE\",\n",
      "  \"args\": {\"query\": \"my refined retrieval query\"}\n",
      "}\n",
      "```\n",
      "\n",
      "---\n",
      "\n",
      "Decide on your next step and output the JSON. Do not include any additional keys or text. Return ONLY the JSON object.\n",
      "```\n"
     ]
    }
   ],
   "source": [
    "pf._improve_prompt(replace=True)\n",
    "print(pf.prompt)"
   ]
  },
  {
   "cell_type": "code",
   "execution_count": 11,
   "metadata": {},
   "outputs": [
    {
     "name": "stdout",
     "output_type": "stream",
     "text": [
      "As an AI assistant, I need to receive a specific user query and context to be able to decide which action should be taken next. The prompt does not provide any specific query or context. Could you please provide them?\n"
     ]
    }
   ],
   "source": [
    "result = pf.execute(task = \"write dijkstra algorithm\")\n",
    "print(result)"
   ]
  }
 ],
 "metadata": {
  "kernelspec": {
   "display_name": "Python 3",
   "language": "python",
   "name": "python3"
  },
  "language_info": {
   "codemirror_mode": {
    "name": "ipython",
    "version": 3
   },
   "file_extension": ".py",
   "mimetype": "text/x-python",
   "name": "python",
   "nbconvert_exporter": "python",
   "pygments_lexer": "ipython3",
   "version": "3.11.4"
  }
 },
 "nbformat": 4,
 "nbformat_minor": 2
}
