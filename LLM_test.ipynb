{
 "cells": [
  {
   "cell_type": "code",
   "execution_count": 1,
   "metadata": {},
   "outputs": [],
   "source": [
    "import requests\n",
    "from POP import PromptFunction, load_prompt, get_text_snapshot\n",
    "from openai import OpenAI\n",
    "from dotenv import load_dotenv\n",
    "from os import getenv\n",
    "import json"
   ]
  },
  {
   "cell_type": "markdown",
   "metadata": {},
   "source": [
    "## Perplexity"
   ]
  },
  {
   "cell_type": "code",
   "execution_count": 3,
   "metadata": {},
   "outputs": [
    {
     "name": "stdout",
     "output_type": "stream",
     "text": [
      "{\"id\": \"97ddd261-dbf7-4704-8cf4-1feee08c2ea2\", \"model\": \"sonar\", \"created\": 1738720949, \"usage\": {\"prompt_tokens\": 10, \"completion_tokens\": 142, \"total_tokens\": 152}, \"citations\": [\"https://www.youtube.com/watch?v=szhD4tn0-0Y\", \"https://site.extension.uga.edu/climate/2025/01/why-has-this-la-nina-winter-been-so-cold/\"], \"object\": \"chat.completion\", \"choices\": [{\"index\": 0, \"finish_reason\": \"stop\", \"message\": {\"role\": \"assistant\", \"content\": \"Winter can be cold due to several factors:\\n\\n1. **Seasonal Changes**: During winter, the Earth's axis is tilted away from the Sun, reducing the amount of sunlight and warmth received by the Northern Hemisphere, leading to colder temperatures.\\n\\n2. **Weather Patterns**: Phenomena like La Ni\\u00f1a can influence weather patterns, sometimes causing cold air to move southward from the Arctic. Weak circulation around the North Pole can allow lobes of cold air to penetrate into mid-latitudes[2].\\n\\n3. **Polar Vortex Disruptions**: Warming Arctic temperatures can disrupt the polar vortex, leading to cold air masses moving southward and causing frigid conditions in regions like the U.S.[1].\"}, \"delta\": {\"role\": \"assistant\", \"content\": \"\"}}]}\n"
     ]
    }
   ],
   "source": [
    "url = \"https://api.perplexity.ai/chat/completions\"\n",
    "\n",
    "payload = {\n",
    "    \"model\": \"sonar\",\n",
    "    \"messages\": [\n",
    "        {\n",
    "            \"role\": \"system\",\n",
    "            \"content\": \"Be precise and concise.\"\n",
    "        },\n",
    "        {\n",
    "            \"role\": \"user\",\n",
    "            \"content\": \"Why is winter cold?\"\n",
    "        }\n",
    "    ],\n",
    "    #\"max_tokens\": \"Optional\",\n",
    "    \"temperature\": 0.2,\n",
    "    \"top_p\": 0.9,\n",
    "    #\"search_domain_filter\": [\"perplexity.ai\"],\n",
    "    \"return_images\": False,\n",
    "    \"return_related_questions\": False,\n",
    "    \"search_recency_filter\": \"month\",\n",
    "    \"top_k\": 0,\n",
    "    \"stream\": False,\n",
    "    \"presence_penalty\": 0,\n",
    "    \"frequency_penalty\": 1,\n",
    "    \"response_format\": None\n",
    "}\n",
    "headers = {\n",
    "    \"Authorization\": f\"Bearer {getenv('PERPLEXITY_API_KEY')}\",\n",
    "    \"Content-Type\": \"application/json\"\n",
    "}\n",
    "\n",
    "response = requests.request(\"POST\", url, json=payload, headers=headers)\n",
    "\n",
    "print(response.text)"
   ]
  },
  {
   "cell_type": "code",
   "execution_count": 2,
   "metadata": {},
   "outputs": [
    {
     "name": "stdout",
     "output_type": "stream",
     "text": [
      "Answer:\n",
      " Based on the search results, here's an overview of the weather for eastern America, focusing on Massachusetts (MA), New York (NY), and Pennsylvania (PA) in February 2025:\n",
      "\n",
      "Massachusetts:\n",
      "The weather in Massachusetts is expected to be cold and snowy in February 2025. Average temperatures range from -5.7°C (21.7°F) at night to 3.2°C (37.7°F) during the day[1][7]. Boston specifically is forecasted to have daytime highs of 3°C (37°F) and nighttime lows of -7°C (19°F)[10]. Snowfall is likely, with an average of 15 snowy days expected throughout the month[1]. Precipitation is anticipated to be around 87-93mm (3.4-3.7 inches)[7][10].\n",
      "\n",
      "New York:\n",
      "While specific data for New York wasn't provided in the search results, we can infer that the weather will be similar to neighboring states. Expect cold temperatures, potential snowfall, and occasional rain or wintry mix events.\n",
      "\n",
      "Pennsylvania:\n",
      "Pennsylvania is likely to experience cold temperatures in February 2025, with a mix of snow and rain events. Daytime highs in Philadelphia are expected to reach around 5°C (41°F), with nighttime lows dropping to -4°C (25°F)[8]. The state may see above-average rainfall, with about 73mm (2.9 inches) of precipitation expected[8]. \n",
      "\n",
      "General trends for the region:\n",
      "- Cold temperatures, typically ranging from below freezing at night to just above freezing during the day.\n",
      "- Snowfall is likely, especially in more northern and elevated areas.\n",
      "- A mix of snow, rain, and wintry mix events can be expected.\n",
      "- Precipitation levels are generally above average for the season.\n",
      "- Sunshine is limited, with an average of 6 hours of sunlight per day in cities like Boston and Philadelphia[8][10].\n",
      "\n",
      "It's important to note that these are long-term averages and forecasts, and actual weather conditions can vary. Always check local, up-to-date forecasts before traveling or making plans.\n",
      "Citations:\n",
      " ['https://www.easeweather.com/north-america/united-states/massachusetts/february', 'https://paweatheraction.com/february-2025-outlook-la-nina-is-finally-here-what-does-that-mean-for-snow-in-pennsylvania/', 'https://forecast.weather.gov/MapClick.php?zoneid=NJZ025', 'https://weatherspark.com/h/m/26197/2025/2/Historical-Weather-in-February-2025-in-Boston-Massachusetts-United-States', 'https://www.weather2travel.com/pennsylvania/february/', 'https://6abc.com/accuweather-forecast-philadelphia-pennsylvania-new-jersey-delaware/49644/', 'https://en.climate-data.org/north-america/united-states-of-america/massachusetts-1062/r/february-2/', 'https://www.weather2travel.com/pennsylvania/philadelphia/february/', 'https://weatherroute.io/map/usa-i84-pa-ma-weather-forecast/', 'https://www.weather2travel.com/massachusetts/boston/february/']\n"
     ]
    }
   ],
   "source": [
    "client_perplexity = OpenAI(base_url=\"https://api.perplexity.ai\", api_key=getenv(\"PERPLEXITY_API_KEY\"))\n",
    "\n",
    "messages = [\n",
    "                {\n",
    "                    \"role\": \"system\",\n",
    "                    \"content\": (\n",
    "                        \"You are an artificial intelligence assistant and you need to \"\n",
    "                        \"engage in a helpful, detailed, polite conversation with a user.\"\n",
    "                    ),\n",
    "                },\n",
    "                {\n",
    "                    \"role\": \"user\",\n",
    "                    \"content\": \"What's the weather for east america? Include MA, NY, and PA.\",\n",
    "                },\n",
    "            ]\n",
    "response = client_perplexity.chat.completions.create(model=\"sonar-pro\", messages=messages)\n",
    "answer = response.choices[0].message.content\n",
    "citations = response.citations  # usually a list of strings\n",
    "print(\"Answer:\\n\", answer)\n",
    "print(\"Citations:\\n\", citations)"
   ]
  },
  {
   "cell_type": "code",
   "execution_count": null,
   "metadata": {},
   "outputs": [],
   "source": [
    "# generate a loop from 1 to 10 print their squares\n",
    "for i in range(1, 11):\n",
    "    print(f\"{i} squared is {i**2}\")"
   ]
  },
  {
   "cell_type": "markdown",
   "metadata": {},
   "source": [
    "## Deepseek (Local)"
   ]
  },
  {
   "cell_type": "code",
   "execution_count": 7,
   "metadata": {},
   "outputs": [
    {
     "name": "stderr",
     "output_type": "stream",
     "text": [
      "Setting `pad_token_id` to `eos_token_id`:151643 for open-end generation.\n"
     ]
    },
    {
     "name": "stdout",
     "output_type": "stream",
     "text": [
      "<｜begin▁of▁sentence｜>What is the capital of the United States? What is the largest planet in the solar system? What is the largest country in the world? What is the largest planet in the solar system? What is the largest country in the world? What is the capital of the United States? What is the largest planet in the solar system? What is the capital of the United States? What is the largest planet in the solar system? What is the largest planet in the solar system? What is the capital\n"
     ]
    }
   ],
   "source": [
    "# Load model directly\n",
    "from transformers import AutoTokenizer, AutoModelForCausalLM\n",
    "\n",
    "#tokenizer = AutoTokenizer.from_pretrained(\"deepseek-ai/DeepSeek-R1-Distill-Llama-8B\")\n",
    "#model = AutoModelForCausalLM.from_pretrained(\"deepseek-ai/DeepSeek-R1-Distill-Llama-8B\")\n",
    "tokenizer = AutoTokenizer.from_pretrained(\"deepseek-ai/DeepSeek-R1-Distill-Qwen-1.5B\")\n",
    "model = AutoModelForCausalLM.from_pretrained(\"deepseek-ai/DeepSeek-R1-Distill-Qwen-1.5B\")\n",
    "\n",
    "# Generate a response\n",
    "prompt = \"What is the capital of the United States?\"\n",
    "inputs = tokenizer(prompt, return_tensors=\"pt\")\n",
    "outputs = model.generate(**inputs, max_length=100)\n",
    "response = tokenizer.decode(outputs[0])\n",
    "print(response)"
   ]
  },
  {
   "cell_type": "markdown",
   "metadata": {},
   "source": [
    "## Story Outliner"
   ]
  },
  {
   "cell_type": "code",
   "execution_count": 3,
   "metadata": {},
   "outputs": [
    {
     "name": "stdout",
     "output_type": "stream",
     "text": [
      "## Bedtime Story Outline Generator (JSON Structured Output)\n",
      "\n",
      "**Objective:**  \n",
      "Generate a comprehensive and imaginative outline for a bedtime story that can later be expanded into full chapters. The output must be in valid JSON format following the structure provided below.\n",
      "\n",
      "---\n",
      "\n",
      "### User's Request:\n",
      "<<<user_request>>>\n",
      "\n",
      "---\n",
      "\n",
      "### Instructions:\n",
      "\n",
      "Please generate the bedtime story outline using the JSON structure detailed below:\n",
      "\n",
      "1. **Story Overview** (`storyOverview` object):\n",
      "   - **title**: Provide a creative and engaging title for the story.\n",
      "   - **summary**: Write a brief summary capturing the main plot, setting, and overall mood of the story.\n",
      "\n",
      "2. **Main Character Details** (`mainCharacter` object):\n",
      "   - **name**: Name of the main character.\n",
      "   - **background**: A short background story.\n",
      "   - **personality**: Description of personality traits, motivations, strengths, and vulnerabilities.\n",
      "   - **appearanceAndCostumes**: Details of physical appearance and distinctive clothing or costumes (include colors, styles, and any magical or unique elements).\n",
      "\n",
      "3. **Setting Description** (`setting` object):\n",
      "   - **primarySetting**: Describe the main setting(s) where the story takes place (e.g., a magical forest, a cozy village, a dreamy castle).\n",
      "   - **atmosphereDetails**: Include sensory details (sights, sounds, smells) to bring the setting to life and fit the bedtime story theme.\n",
      "\n",
      "4. **Chapter-by-Chapter Breakdown** (`chapters` array):\n",
      "   Each chapter should be represented as an object with the following keys:\n",
      "   - **chapterTitle**: A catchy title for the chapter.\n",
      "   - **chapterSummary**: A brief overview of what happens in the chapter.\n",
      "   - **keyEvents**: An array listing the main events, actions, or conflicts in the chapter.\n",
      "   - **characterDevelopment**: Description of any new insights, challenges, or growth for the main character.\n",
      "   - **supportingElements**: Additional characters, magical elements, or important items introduced in the chapter.\n",
      "   - **chapterConclusion**: Explain how the chapter ends and sets up the next chapter.\n",
      "\n",
      "5. **Supporting Characters & Antagonists** (`supportingCharacters` array):\n",
      "   Each supporting character or antagonist should be an object with:\n",
      "   - **name**: Name of the character.\n",
      "   - **description**: A brief description.\n",
      "   - **costumesAndTraits**: Details about their appearance, costumes, and defining characteristics.\n",
      "\n",
      "6. **Themes and Moral Lessons** (`themes` object):\n",
      "   - **coreThemes**: An array of the central themes (e.g., friendship, bravery, kindness).\n",
      "   - **lessons**: Outline any moral or educational lessons that the story will convey.\n",
      "\n",
      "7. **Additional Elements** (`additionalElements` object):\n",
      "   - **recurringMotifs**: Any symbols or motifs (like a magic key, a sparkling star) that recur throughout the story.\n",
      "   - **specialFeatures**: Whimsical or fantastical elements (such as talking animals, enchanted objects) that add to the bedtime story magic.\n",
      "\n",
      "---\n",
      "\n",
      "### Output Requirements:\n",
      "- **Format:** The output must be valid JSON.\n",
      "- **Structure:** Follow the JSON keys and structure as specified above.\n",
      "- **Tone:** The tone should be soothing, imaginative, and appropriate for a bedtime story.\n",
      "- **Detail:** Each section must be detailed enough to provide a solid foundation for writing complete chapters later.\n",
      "\n",
      "---\n",
      "\n",
      "### Example JSON Output:\n",
      "\n",
      "```json\n",
      "{\n",
      "  \"storyOverview\": {\n",
      "    \"title\": \"The Moonlit Adventures of Luna\",\n",
      "    \"summary\": \"Luna, a curious and brave girl with a magical cloak, embarks on nightly adventures in an enchanted forest filled with talking animals and hidden secrets.\"\n",
      "  },\n",
      "  \"mainCharacter\": {\n",
      "    \"name\": \"Luna\",\n",
      "    \"background\": \"A kind-hearted child from a small village, fascinated by the mysteries of the night.\",\n",
      "    \"personality\": \"Curious, brave, and compassionate, with a gentle sense of humor.\",\n",
      "    \"appearanceAndCostumes\": \"Wears a shimmering moonlit cloak, star-patterned pajamas, and carries a lantern that glows with magical light.\"\n",
      "  },\n",
      "  \"setting\": {\n",
      "    \"primarySetting\": \"An enchanted forest filled with ancient trees, sparkling streams, and hidden pathways.\",\n",
      "    \"atmosphereDetails\": \"The forest hums with soft whispers, rustling leaves, and distant calls of nocturnal creatures, creating a magical ambiance.\"\n",
      "  },\n",
      "  \"chapters\": [\n",
      "    {\n",
      "      \"chapterTitle\": \"The Whispering Woods\",\n",
      "      \"chapterSummary\": \"Luna enters the enchanted forest and encounters mysterious whispers that lead her deeper into adventure.\",\n",
      "      \"keyEvents\": [\n",
      "        \"Luna hears soft, mysterious whispers as she steps into the forest.\",\n",
      "        \"She meets a wise owl who offers cryptic clues.\",\n",
      "        \"Faces a gentle challenge that teaches her to trust her instincts.\"\n",
      "      ],\n",
      "      \"characterDevelopment\": \"Luna learns to trust her inner voice and the guidance of nature.\",\n",
      "      \"supportingElements\": \"A wise owl, a glowing map, and a shimmering trail.\",\n",
      "      \"chapterConclusion\": \"The chapter ends with Luna discovering a sparkling path that hints at further adventures.\"\n",
      "    }\n",
      "  ],\n",
      "  \"supportingCharacters\": [\n",
      "    {\n",
      "      \"name\": \"Oliver the Owl\",\n",
      "      \"description\": \"A wise and playful owl who offers guidance on Luna's journey.\",\n",
      "      \"costumesAndTraits\": \"Wears a tiny pair of spectacles and has feathers that shimmer in the moonlight.\"\n",
      "    }\n",
      "  ],\n",
      "  \"themes\": {\n",
      "    \"coreThemes\": [\"Friendship\", \"Courage\", \"Curiosity\"],\n",
      "    \"lessons\": \"The story emphasizes the importance of trust, the beauty of nature, and the magic in every adventure.\"\n",
      "  },\n",
      "  \"additionalElements\": {\n",
      "    \"recurringMotifs\": \"A sparkling star that appears at key moments in Luna's journey.\",\n",
      "    \"specialFeatures\": \"Enchanted objects like a glowing lantern and a mysterious, magical map.\"\n",
      "  }\n",
      "}\n",
      "\n"
     ]
    }
   ],
   "source": [
    "pf_outliner = PromptFunction(load_prompt(\"story_outliner_prompt.md\"))\n",
    "print(pf_outliner.prompt)"
   ]
  },
  {
   "cell_type": "code",
   "execution_count": 17,
   "metadata": {},
   "outputs": [],
   "source": [
    "fmt = {\n",
    "  \"name\": \"Bedtime_Story_Outline\",\n",
    "  \"schema\": {\n",
    "    \"type\": \"object\",\n",
    "    \"properties\": {\n",
    "        \"storyOverview\": {\n",
    "        \"type\": \"object\",\n",
    "        \"properties\": {\n",
    "            \"title\": { \"type\": \"string\", \"description\": \"A creative and engaging title for the story.\" },\n",
    "            \"summary\": { \"type\": \"string\", \"description\": \"A brief summary capturing the main plot, setting, and overall mood.\" }\n",
    "        },\n",
    "        \"required\": [\"title\", \"summary\"]\n",
    "        },\n",
    "        \"mainCharacter\": {\n",
    "        \"type\": \"object\",\n",
    "        \"properties\": {\n",
    "            \"name\": { \"type\": \"string\", \"description\": \"Name of the main character.\" },\n",
    "            \"background\": { \"type\": \"string\", \"description\": \"A short background story for the main character.\" },\n",
    "            \"personality\": { \"type\": \"string\", \"description\": \"Description of personality traits, motivations, strengths, and vulnerabilities.\" },\n",
    "            \"appearanceAndCostumes\": { \"type\": \"string\", \"description\": \"Details of the character's physical appearance and distinctive clothing or costumes.\" }\n",
    "        },\n",
    "        \"required\": [\"name\", \"background\", \"personality\", \"appearanceAndCostumes\"]\n",
    "        },\n",
    "        \"setting\": {\n",
    "        \"type\": \"object\",\n",
    "        \"properties\": {\n",
    "            \"primarySetting\": { \"type\": \"string\", \"description\": \"Description of the main setting where the story takes place.\" },\n",
    "            \"atmosphereDetails\": { \"type\": \"string\", \"description\": \"Sensory details (sights, sounds, smells) that bring the setting to life.\" }\n",
    "        },\n",
    "        \"required\": [\"primarySetting\", \"atmosphereDetails\"]\n",
    "        },\n",
    "        \"chapters\": {\n",
    "        \"type\": \"array\",\n",
    "        \"description\": \"Array of chapter outlines.\",\n",
    "        \"items\": {\n",
    "            \"type\": \"object\",\n",
    "            \"properties\": {\n",
    "            \"chapterTitle\": { \"type\": \"string\", \"description\": \"A catchy title for the chapter.\" },\n",
    "            \"chapterSummary\": { \"type\": \"string\", \"description\": \"A brief overview of what happens in the chapter.\" },\n",
    "            \"keyEvents\": {\n",
    "                \"type\": \"array\",\n",
    "                \"description\": \"List of main events, actions, or conflicts in the chapter.\",\n",
    "                \"items\": { \"type\": \"string\" }\n",
    "            },\n",
    "            \"characterDevelopment\": { \"type\": \"string\", \"description\": \"Insights, challenges, or growth for the main character during the chapter.\" },\n",
    "            \"supportingElements\": { \"type\": \"string\", \"description\": \"Additional characters, magical elements, or important items introduced.\" },\n",
    "            \"chapterConclusion\": { \"type\": \"string\", \"description\": \"Explanation of how the chapter ends and sets up the next chapter.\" },\n",
    "            \"currentChapter\": { \"type\": \"integer\", \"description\": \"The current chapter number.\"}\n",
    "            },\n",
    "            \"required\": [\"chapterTitle\", \"chapterSummary\", \"keyEvents\", \"characterDevelopment\", \"supportingElements\", \"chapterConclusion\"]\n",
    "        }\n",
    "        },\n",
    "        \"total_chapter\": {\n",
    "            \"type\": \"integer\",\n",
    "            \"description\": \"The total number of chapters in the story.\"\n",
    "        },\n",
    "        \"supportingCharacters\": {\n",
    "        \"type\": \"array\",\n",
    "        \"description\": \"Array of supporting characters or antagonists.\",\n",
    "        \"items\": {\n",
    "            \"type\": \"object\",\n",
    "            \"properties\": {\n",
    "            \"name\": { \"type\": \"string\", \"description\": \"Name of the character.\" },\n",
    "            \"description\": { \"type\": \"string\", \"description\": \"A brief description of the character.\" },\n",
    "            \"costumesAndTraits\": { \"type\": \"string\", \"description\": \"Details about the character's appearance, costumes, and defining characteristics.\" }\n",
    "            },\n",
    "            \"required\": [\"name\", \"description\", \"costumesAndTraits\"]\n",
    "        }\n",
    "        },\n",
    "        \"themes\": {\n",
    "        \"type\": \"object\",\n",
    "        \"properties\": {\n",
    "            \"coreThemes\": {\n",
    "            \"type\": \"array\",\n",
    "            \"description\": \"An array of the central themes (e.g., friendship, bravery, kindness).\",\n",
    "            \"items\": { \"type\": \"string\" }\n",
    "            },\n",
    "            \"lessons\": { \"type\": \"string\", \"description\": \"The moral or educational lessons that the story will convey.\" }\n",
    "        },\n",
    "        \"required\": [\"coreThemes\", \"lessons\"]\n",
    "        },\n",
    "        \"additionalElements\": {\n",
    "        \"type\": \"object\",\n",
    "        \"properties\": {\n",
    "            \"recurringMotifs\": { \"type\": \"string\", \"description\": \"Symbols or motifs that recur throughout the story.\" },\n",
    "            \"specialFeatures\": { \"type\": \"string\", \"description\": \"Whimsical or fantastical elements that add to the bedtime story magic.\" }\n",
    "        },\n",
    "        \"required\": [\"recurringMotifs\", \"specialFeatures\"]\n",
    "        }\n",
    "    },\n",
    "    \"required\": [\"storyOverview\", \"mainCharacter\", \"setting\", \"chapters\", \"total_chapter\", \"supportingCharacters\", \"themes\", \"additionalElements\"]\n",
    "  }\n",
    "  \n",
    "}\n"
   ]
  },
  {
   "cell_type": "code",
   "execution_count": 31,
   "metadata": {},
   "outputs": [
    {
     "name": "stdout",
     "output_type": "stream",
     "text": [
      "{\"storyOverview\":{\"title\":\"Little Red's Enchanted Journey\",\"summary\":\"A delightful tale of Little Red, a spirited young girl, who embarks on an adventurous journey through the Enchanted Woods to visit her grandmother, encountering magical creatures and learning valuable life lessons along the way.\"},\"mainCharacter\":{\"name\":\"Little Red\",\"background\":\"A lively and adventurous girl living in a quaint village at the edge of the Enchanted Woods.\",\"personality\":\"Curious, brave, and kind-hearted, Little Red is always eager to explore and help others, but her impulsive nature sometimes leads her into tricky situations.\",\"appearanceAndCostumes\":\"Wears a signature red hooded cloak, gifted by her grandmother, with a woven basket filled with treats. Her attire is simple yet charming, with a playful touch of magic as the cloak seems to shimmer in the forest light.\"},\"setting\":{\"primarySetting\":\"The Enchanted Woods, a mystical forest filled with towering trees, hidden creatures, and magical pathways.\",\"atmosphereDetails\":\"The forest is alive with the sounds of chirping birds, rustling leaves, and distant waterfalls. The air is fragrant with the scent of blooming wildflowers and fresh pine, creating an inviting yet mysterious ambiance.\"},\"chapters\":[{\"chapterTitle\":\"Into the Enchanted Woods\",\"chapterSummary\":\"Little Red sets out on her journey, excited to visit her grandmother, and enters the mystical forest that promises adventure.\",\"keyEvents\":[\"Little Red receives a basket of treats from her mother to take to her grandmother.\",\"She eagerly ventures into the Enchanted Woods, feeling the thrill of adventure.\",\"Encounters a friendly squirrel who warns her of the magical surprises ahead.\"],\"characterDevelopment\":\"Little Red's curiosity is piqued, and she learns the importance of listening to advice from friends.\",\"supportingElements\":\"A chatty squirrel named Nutty, a map with shifting paths, and a magical compass gifted by her mother.\",\"chapterConclusion\":\"The chapter closes as Little Red spots a glimmering path leading deeper into the forest, sparking her curiosity for what lies ahead.\"},{\"chapterTitle\":\"The Trickster's Trail\",\"chapterSummary\":\"Facing her first challenge, Little Red learns to navigate the forest's shifting paths and meets a mischievous fox.\",\"keyEvents\":[\"Little Red follows the glimmering path, which leads her to a tricky fork in the road.\",\"A cunning fox named Finn appears, offering help but with a playful twist.\",\"Little Red uses her wits to solve Finn's riddles and chooses the right path.\"],\"characterDevelopment\":\"Little Red discovers her ability to think quickly and trust her instincts amidst the uncertainty of the forest.\",\"supportingElements\":\"Finn the Fox, a riddle-filled stone, and a path that changes with every choice.\",\"chapterConclusion\":\"As she outsmarts the fox, Little Red continues on her journey, feeling more confident and eager to meet more challenges.\"},{\"chapterTitle\":\"The Guardian of the Glade\",\"chapterSummary\":\"Little Red encounters a wise old owl who guards a hidden glade, offering guidance and a magical gift.\",\"keyEvents\":[\"Little Red stumbles upon a serene glade, hidden within the heart of the forest.\",\"Meets Oliver, the wise owl, who shares insights about the forest's magic.\",\"Receives a magical feather that grants her protection and wisdom.\"],\"characterDevelopment\":\"Little Red learns the value of wisdom and patience, gaining a deeper appreciation for the forest's mysteries.\",\"supportingElements\":\"Oliver the Owl, the magical glade, and the enchanted feather that glows with wisdom.\",\"chapterConclusion\":\"With newfound wisdom and a magical feather, Little Red sets off towards her grandmother's house, ready for the final leg of her journey.\"},{\"chapterTitle\":\"Grandmother's Cottage\",\"chapterSummary\":\"Arriving at her grandmother's cottage, Little Red shares her adventures and learns the final lesson of love and family.\",\"keyEvents\":[\"Little Red arrives safely at her grandmother's charming cottage.\",\"Shares her stories of the Enchanted Woods, impressing her grandmother.\",\"Learns about the importance of love and family, completing her journey.\"],\"characterDevelopment\":\"Little Red's journey comes full circle as she realizes the true magic in her life is the love she shares with her family.\",\"supportingElements\":\"Grandmother, a cozy cottage filled with warmth and laughter, and the enchanted items collected during the journey.\",\"chapterConclusion\":\"The story concludes with Little Red and her grandmother enjoying a warm meal, as the sun sets over the Enchanted Woods, promising more adventures to come.\"}],\"total_chapter\":4,\"supportingCharacters\":[{\"name\":\"Nutty the Squirrel\",\"description\":\"A friendly and chatty squirrel who loves to help travelers in the Enchanted Woods.\",\"costumesAndTraits\":\"Nutty is small and quick, with a bushy tail and bright eyes that twinkle with curiosity.\"},{\"name\":\"Finn the Fox\",\"description\":\"A mischievous fox known for his playful tricks and clever riddles.\",\"costumesAndTraits\":\"Finn has sleek red fur and wears a small, tattered vest that hints at his playful nature.\"},{\"name\":\"Oliver the Owl\",\"description\":\"A wise and ancient owl who guards the hidden glade within the forest.\",\"costumesAndTraits\":\"Oliver wears tiny spectacles and has feathers that glimmer with a soft, golden light.\"}],\"themes\":{\"coreThemes\":[\"Bravery\",\"Curiosity\",\"Family\"],\"lessons\":\"The story teaches the importance of listening to others, trusting one's instincts, and cherishing the love of family.\"},\"additionalElements\":{\"recurringMotifs\":\"The red cloak, symbolizing protection and adventure.\",\"specialFeatures\":\"Talking animals, magical pathways, and enchanted objects that guide Little Red on her journey.\"}}\n"
     ]
    }
   ],
   "source": [
    "user_request = \"小红帽\"\n",
    "outline = pf_outliner.execute(user_request=user_request, model = \"gpt-4o\", fmt = fmt)\n",
    "print(outline)"
   ]
  },
  {
   "cell_type": "code",
   "execution_count": 32,
   "metadata": {},
   "outputs": [
    {
     "data": {
      "text/plain": [
       "{'storyOverview': {'title': \"Little Red's Enchanted Journey\",\n",
       "  'summary': 'A delightful tale of Little Red, a spirited young girl, who embarks on an adventurous journey through the Enchanted Woods to visit her grandmother, encountering magical creatures and learning valuable life lessons along the way.'},\n",
       " 'mainCharacter': {'name': 'Little Red',\n",
       "  'background': 'A lively and adventurous girl living in a quaint village at the edge of the Enchanted Woods.',\n",
       "  'personality': 'Curious, brave, and kind-hearted, Little Red is always eager to explore and help others, but her impulsive nature sometimes leads her into tricky situations.',\n",
       "  'appearanceAndCostumes': 'Wears a signature red hooded cloak, gifted by her grandmother, with a woven basket filled with treats. Her attire is simple yet charming, with a playful touch of magic as the cloak seems to shimmer in the forest light.'},\n",
       " 'setting': {'primarySetting': 'The Enchanted Woods, a mystical forest filled with towering trees, hidden creatures, and magical pathways.',\n",
       "  'atmosphereDetails': 'The forest is alive with the sounds of chirping birds, rustling leaves, and distant waterfalls. The air is fragrant with the scent of blooming wildflowers and fresh pine, creating an inviting yet mysterious ambiance.'},\n",
       " 'chapters': [{'chapterTitle': 'Into the Enchanted Woods',\n",
       "   'chapterSummary': 'Little Red sets out on her journey, excited to visit her grandmother, and enters the mystical forest that promises adventure.',\n",
       "   'keyEvents': ['Little Red receives a basket of treats from her mother to take to her grandmother.',\n",
       "    'She eagerly ventures into the Enchanted Woods, feeling the thrill of adventure.',\n",
       "    'Encounters a friendly squirrel who warns her of the magical surprises ahead.'],\n",
       "   'characterDevelopment': \"Little Red's curiosity is piqued, and she learns the importance of listening to advice from friends.\",\n",
       "   'supportingElements': 'A chatty squirrel named Nutty, a map with shifting paths, and a magical compass gifted by her mother.',\n",
       "   'chapterConclusion': 'The chapter closes as Little Red spots a glimmering path leading deeper into the forest, sparking her curiosity for what lies ahead.'},\n",
       "  {'chapterTitle': \"The Trickster's Trail\",\n",
       "   'chapterSummary': \"Facing her first challenge, Little Red learns to navigate the forest's shifting paths and meets a mischievous fox.\",\n",
       "   'keyEvents': ['Little Red follows the glimmering path, which leads her to a tricky fork in the road.',\n",
       "    'A cunning fox named Finn appears, offering help but with a playful twist.',\n",
       "    \"Little Red uses her wits to solve Finn's riddles and chooses the right path.\"],\n",
       "   'characterDevelopment': 'Little Red discovers her ability to think quickly and trust her instincts amidst the uncertainty of the forest.',\n",
       "   'supportingElements': 'Finn the Fox, a riddle-filled stone, and a path that changes with every choice.',\n",
       "   'chapterConclusion': 'As she outsmarts the fox, Little Red continues on her journey, feeling more confident and eager to meet more challenges.'},\n",
       "  {'chapterTitle': 'The Guardian of the Glade',\n",
       "   'chapterSummary': 'Little Red encounters a wise old owl who guards a hidden glade, offering guidance and a magical gift.',\n",
       "   'keyEvents': ['Little Red stumbles upon a serene glade, hidden within the heart of the forest.',\n",
       "    \"Meets Oliver, the wise owl, who shares insights about the forest's magic.\",\n",
       "    'Receives a magical feather that grants her protection and wisdom.'],\n",
       "   'characterDevelopment': \"Little Red learns the value of wisdom and patience, gaining a deeper appreciation for the forest's mysteries.\",\n",
       "   'supportingElements': 'Oliver the Owl, the magical glade, and the enchanted feather that glows with wisdom.',\n",
       "   'chapterConclusion': \"With newfound wisdom and a magical feather, Little Red sets off towards her grandmother's house, ready for the final leg of her journey.\"},\n",
       "  {'chapterTitle': \"Grandmother's Cottage\",\n",
       "   'chapterSummary': \"Arriving at her grandmother's cottage, Little Red shares her adventures and learns the final lesson of love and family.\",\n",
       "   'keyEvents': [\"Little Red arrives safely at her grandmother's charming cottage.\",\n",
       "    'Shares her stories of the Enchanted Woods, impressing her grandmother.',\n",
       "    'Learns about the importance of love and family, completing her journey.'],\n",
       "   'characterDevelopment': \"Little Red's journey comes full circle as she realizes the true magic in her life is the love she shares with her family.\",\n",
       "   'supportingElements': 'Grandmother, a cozy cottage filled with warmth and laughter, and the enchanted items collected during the journey.',\n",
       "   'chapterConclusion': 'The story concludes with Little Red and her grandmother enjoying a warm meal, as the sun sets over the Enchanted Woods, promising more adventures to come.'}],\n",
       " 'total_chapter': 4,\n",
       " 'supportingCharacters': [{'name': 'Nutty the Squirrel',\n",
       "   'description': 'A friendly and chatty squirrel who loves to help travelers in the Enchanted Woods.',\n",
       "   'costumesAndTraits': 'Nutty is small and quick, with a bushy tail and bright eyes that twinkle with curiosity.'},\n",
       "  {'name': 'Finn the Fox',\n",
       "   'description': 'A mischievous fox known for his playful tricks and clever riddles.',\n",
       "   'costumesAndTraits': 'Finn has sleek red fur and wears a small, tattered vest that hints at his playful nature.'},\n",
       "  {'name': 'Oliver the Owl',\n",
       "   'description': 'A wise and ancient owl who guards the hidden glade within the forest.',\n",
       "   'costumesAndTraits': 'Oliver wears tiny spectacles and has feathers that glimmer with a soft, golden light.'}],\n",
       " 'themes': {'coreThemes': ['Bravery', 'Curiosity', 'Family'],\n",
       "  'lessons': \"The story teaches the importance of listening to others, trusting one's instincts, and cherishing the love of family.\"},\n",
       " 'additionalElements': {'recurringMotifs': 'The red cloak, symbolizing protection and adventure.',\n",
       "  'specialFeatures': 'Talking animals, magical pathways, and enchanted objects that guide Little Red on her journey.'}}"
      ]
     },
     "execution_count": 32,
     "metadata": {},
     "output_type": "execute_result"
    }
   ],
   "source": [
    "outline = json.loads(outline)\n",
    "outline"
   ]
  },
  {
   "cell_type": "code",
   "execution_count": 33,
   "metadata": {},
   "outputs": [],
   "source": [
    "pf_chapter_writer = PromptFunction('''\n",
    "Generate the chapter of the bedtime story with the following details:\n",
    "- **User Request:** <<<user_request>>>\n",
    "- **Story Setting:** <<<story_setting>>>\n",
    "- **Story Title:** <<<story_title>>>\n",
    "- **Chapter Number:** <<<chapter_number>>>\n",
    "\n",
    "For this chapter, please include:\n",
    "\n",
    "1. **Chapter Title:**  \n",
    "   Provide a catchy and engaging title for this chapter.\n",
    "\n",
    "2. **Chapter Summary:**  \n",
    "   Write a brief summary describing what happens in this chapter.\n",
    "\n",
    "3. **Paragraph:**  \n",
    "   List the main events, actions, or conflicts that occur in the chapter (use bullet points).\n",
    "                                   \n",
    "Ensure the tone is soothing, imaginative, and appropriate for a bedtime story.\n",
    "\n",
    "''')"
   ]
  },
  {
   "cell_type": "code",
   "execution_count": 34,
   "metadata": {},
   "outputs": [
    {
     "data": {
      "text/plain": [
       "\"Little Red's Enchanted Journey\""
      ]
     },
     "execution_count": 34,
     "metadata": {},
     "output_type": "execute_result"
    }
   ],
   "source": [
    "outline['storyOverview']['title']"
   ]
  },
  {
   "cell_type": "code",
   "execution_count": 35,
   "metadata": {},
   "outputs": [
    {
     "data": {
      "text/plain": [
       "4"
      ]
     },
     "execution_count": 35,
     "metadata": {},
     "output_type": "execute_result"
    }
   ],
   "source": [
    "outline['total_chapter']"
   ]
  },
  {
   "cell_type": "code",
   "execution_count": 36,
   "metadata": {},
   "outputs": [
    {
     "name": "stdout",
     "output_type": "stream",
     "text": [
      "**Chapter 1: Into the Enchanted Woods**\n",
      "\n",
      "**Chapter Summary:**  \n",
      "In this opening chapter, Little Red begins her exciting journey through the Enchanted Woods to visit her beloved grandmother. As she steps into the magical forest, she encounters a friendly squirrel named Nutty, who offers her some wise advice. Despite the mystical surprises that lie ahead, Little Red's adventurous spirit is ignited, and she eagerly follows the shimmering path deeper into the woods.\n",
      "\n",
      "**Paragraph:**\n",
      "\n",
      "- Little Red receives a warm farewell from her mother, who hands her a woven basket filled with delicious treats for her grandmother.\n",
      "- With her signature red hooded cloak shimmering in the forest light, Little Red sets off on her journey, feeling the thrill of adventure coursing through her.\n",
      "- As she enters the Enchanted Woods, she is greeted by the lively sounds of chirping birds and the fragrant scent of blooming wildflowers.\n",
      "- Little Red encounters Nutty the Squirrel, a chatty and friendly creature, who warns her of the magical surprises that the forest holds.\n",
      "- Nutty presents Little Red with a magical compass, a gift from her mother, which will help guide her through the forest's shifting paths.\n",
      "- With her curiosity piqued, Little Red listens to Nutty's advice and continues on her way, feeling both excited and a bit apprehensive about what lies ahead.\n",
      "- The chapter closes with Little Red spotting a glimmering path, leading deeper into the forest, igniting her curiosity for the adventures that await.\n"
     ]
    }
   ],
   "source": [
    "paragraph = pf_chapter_writer.execute(user_request = user_request,\n",
    "                          story_setting = outline,\n",
    "                          story_title = outline['storyOverview']['title'],\n",
    "                          chapter_number = 1,\n",
    "                          model = \"gpt-4o\")\n",
    "\n",
    "print(paragraph)"
   ]
  },
  {
   "cell_type": "code",
   "execution_count": 26,
   "metadata": {},
   "outputs": [
    {
     "name": "stdout",
     "output_type": "stream",
     "text": [
      "**Chapter Title:** A Whisper of Trouble\n",
      "\n",
      "**Chapter Summary:**  \n",
      "In the heart of Dreamwood Forest, a brave young rabbit named Thumper learns of a dragon's presence near the village, stirring fear among the woodland creatures. As panic spreads, Thumper's sense of justice and courage compel him to investigate the rumors himself. Guided by the wisdom of a wise old tortoise and a magical compass, Thumper sets off on a journey to uncover the truth behind the dragon's appearance.\n",
      "\n",
      "**Paragraph:**\n",
      "\n",
      "- Thumper, with his bright, curious eyes, overhears a hushed conversation between two sparrows about a dragon sighting.\n",
      "- The news spreads like wildfire through the forest, leaving the animals in a state of panic and disarray.\n",
      "- Driven by a desire to protect his home and loved ones, Thumper resolves to uncover the truth about the dragon.\n",
      "- He seeks guidance from the wise old Tortoise, who lives by the shimmering stream deep within the forest.\n",
      "- The Tortoise, with ancient wisdom, provides Thumper with advice and gifts him a magical compass that glows with an ethereal light.\n",
      "- With the magical compass in his small paw and a heart full of determination, Thumper sets off into the enchanting unknown, the gentle glow of fireflies lighting his path.\n",
      "**Chapter Title: The Dragon's Lair**\n",
      "\n",
      "**Chapter Summary:**  \n",
      "In this chapter, Thumper bravely ventures to the edge of Dreamwood Forest, where he discovers the dragon's cave. To his surprise, the dragon, named Ember, is not a menacing creature but rather a gentle giant in distress. Thumper learns that Ember is lost and frightened, leading to an unexpected alliance between the rabbit and the dragon.\n",
      "\n",
      "**Paragraph:**\n",
      "\n",
      "- Thumper follows the magical compass through the mystical paths of Dreamwood, its gentle glow guiding him to the dragon's lair.\n",
      "- As he approaches the cave, the air becomes still, and Thumper's heart pounds with both fear and determination.\n",
      "- Inside, he finds Ember, a magnificent dragon with shimmering scales that reflect the colors of the forest around him.\n",
      "- Thumper's initial fear melts away as he listens to Ember's story, realizing the dragon is not evil but misunderstood and scared.\n",
      "- Ember shares his longing to return home, revealing that he wandered into Dreamwood by accident and has been unable to find his way back.\n",
      "- Moved by the dragon's plight, Thumper's heart fills with compassion, and he promises to help Ember find his home.\n",
      "- The chapter ends with the blossoming of an unlikely friendship, as Thumper and Ember prepare to embark on their journey together.\n",
      "**Chapter Title:**  \n",
      "\"Homeward Bound\"\n",
      "\n",
      "**Chapter Summary:**  \n",
      "Together, Thumper the brave rabbit and Ember the misunderstood dragon embark on an adventurous journey through the magical Dreamwood Forest. As they face various challenges, they discover the power of teamwork and uncover an ancient map that reveals the path to Ember's home. This chapter celebrates their growing friendship and the strength found in trusting one another.\n",
      "\n",
      "**Paragraph:**  \n",
      "- Thumper and Ember set out on their journey, the magical compass glowing softly to guide them through the enchanting forest.\n",
      "- They encounter a wide river, its waters glistening under the moonlight. Using his quick thinking, Thumper devises a clever plan to help Ember cross safely.\n",
      "- The duo faces a dense thicket of brambles, where Thumper's small size and Ember's gentle flames work in harmony to create a path.\n",
      "- Along the way, they stumble upon an ancient tree, its roots cradling a forgotten map that glows with a mystical light.\n",
      "- As they study the map, it reveals a secret passage leading to Ember's homeland, illuminating the way with a trail of shimmering stars.\n",
      "- Thumper and Ember's journey is filled with laughter and stories, each challenge further cementing their bond of friendship.\n",
      "- With hope renewed and the map in hand, they set out on the final leg of their journey, the forest whispering promises of adventure and discovery.\n",
      "**Chapter 4: The Return of Harmony**\n",
      "\n",
      "**Chapter Summary:**  \n",
      "In the heart of Dreamwood Forest, Thumper and Ember finally reach the dragon's homeland. Their journey concludes with Ember's joyful reunion with his family, and the forest rejoices as balance is restored. Thumper is celebrated for his bravery and kindness, learning that true courage comes from understanding and helping others.\n",
      "\n",
      "**Paragraph:**\n",
      "\n",
      "- As the sun begins to set, casting golden hues across the sky, Thumper and Ember tread the final path to the dragon's homeland, guided by the ancient map's glowing runes.\n",
      "- Upon reaching a hidden valley blanketed with emerald grass and dotted with sparkling pools, Ember lets out a heartfelt roar, calling his family.\n",
      "- The air is filled with the fluttering wings of dragons, each with scales as iridescent as Ember's, and they embrace him warmly, their joy resonating through the valley.\n",
      "- The forest creatures gather to witness the heartfelt reunion, their eyes shimmering with tears of happiness and relief.\n",
      "- A grand celebration ensues, with magical fireworks lighting up the twilight sky, casting hues of pink, blue, and gold over the enchanted forest.\n",
      "- Thumper, basking in the glow of the celebration, is hailed as a hero, his actions a testament to the power of kindness and empathy.\n",
      "- As the festivities draw to a close, Thumper reflects on the lessons learned, understanding that true bravery lies in compassion and the willingness to aid those in need.\n",
      "- With a heart full of new friendships and cherished memories, Thumper returns home, knowing he has made a lasting difference in Dreamwood Forest.\n"
     ]
    }
   ],
   "source": [
    "for i in range(1, outline['total_chapter']+1):\n",
    "    paragraph = pf_chapter_writer.execute(user_request = user_request,\n",
    "                          story_setting = outline,\n",
    "                          story_title = outline['storyOverview']['title'],\n",
    "                          chapter_number = i,\n",
    "                          model = \"gpt-4o\")\n",
    "    print(paragraph)"
   ]
  },
  {
   "cell_type": "markdown",
   "metadata": {},
   "source": [
    "## GPT Auto-JSON formatter\n",
    "\n",
    "GPT Auto formatter is a prompt function that outputs the `fmt` accepted by `PromptFunction` objects, based on given Natural Language description. It can also be used in auto task chains."
   ]
  },
  {
   "cell_type": "code",
   "execution_count": 21,
   "metadata": {},
   "outputs": [],
   "source": [
    "prompt_path = \"prompts/json_formatter_prompt.md\"\n",
    "#prompt_path = \"prompts/openai-json_schema_generator.md\"\n",
    "pf_formatter = PromptFunction(sys_prompt=load_prompt(prompt_path),\n",
    "                              prompt=\"I need help generating a JSON schema for a specific format. Can you assist me with this task? Here's the description: \\n<<<user_description>>>\",)"
   ]
  },
  {
   "cell_type": "code",
   "execution_count": 22,
   "metadata": {},
   "outputs": [],
   "source": [
    "## make sure the return is a json object, we create a flexible json schema to allow any key value pairs\n",
    "formatter_fmt = {\n",
    "  \"name\": \"Any_name\",\n",
    "  \"schema\": {\n",
    "    \"$schema\": \"http://json-schema.org/draft-07/schema#\",\n",
    "    \"type\": \"object\",\n",
    "    \"additionalProperties\": True,\n",
    "    \"properties\": {}\n",
    "    }\n",
    "}"
   ]
  },
  {
   "cell_type": "code",
   "execution_count": 13,
   "metadata": {},
   "outputs": [],
   "source": [
    "formatter_fmt = {\n",
    "  \"name\": \"metaschema\",\n",
    "  \"schema\": {\n",
    "    \"type\": \"object\",\n",
    "    \"properties\": {\n",
    "      \"name\": {\n",
    "        \"type\": \"string\",\n",
    "        \"description\": \"The name of the schema\"\n",
    "      },\n",
    "      \"type\": {\n",
    "        \"type\": \"string\",\n",
    "        \"enum\": [\n",
    "          \"object\",\n",
    "          \"array\",\n",
    "          \"string\",\n",
    "          \"number\",\n",
    "          \"boolean\",\n",
    "          \"null\"\n",
    "        ]\n",
    "      },\n",
    "      \"properties\": {\n",
    "        \"type\": \"object\",\n",
    "        \"additionalProperties\": {\n",
    "          \"$ref\": \"#/$defs/schema_definition\"\n",
    "        }\n",
    "      },\n",
    "      \"items\": {\n",
    "        \"anyOf\": [\n",
    "          {\n",
    "            \"$ref\": \"#/$defs/schema_definition\"\n",
    "          },\n",
    "          {\n",
    "            \"type\": \"array\",\n",
    "            \"items\": {\n",
    "              \"$ref\": \"#/$defs/schema_definition\"\n",
    "            }\n",
    "          }\n",
    "        ]\n",
    "      },\n",
    "      \"required\": {\n",
    "        \"type\": \"array\",\n",
    "        \"items\": {\n",
    "          \"type\": \"string\"\n",
    "        }\n",
    "      },\n",
    "      \"additionalProperties\": {\n",
    "        \"type\": \"boolean\"\n",
    "      }\n",
    "    },\n",
    "    \"required\": [\n",
    "      \"type\"\n",
    "    ],\n",
    "    \"additionalProperties\": False,\n",
    "    \"if\": {\n",
    "      \"properties\": {\n",
    "        \"type\": {\n",
    "          \"const\": \"object\"\n",
    "        }\n",
    "      }\n",
    "    },\n",
    "    \"then\": {\n",
    "      \"required\": [\n",
    "        \"properties\"\n",
    "      ]\n",
    "    },\n",
    "    \"$defs\": {\n",
    "      \"schema_definition\": {\n",
    "        \"type\": \"object\",\n",
    "        \"properties\": {\n",
    "          \"type\": {\n",
    "            \"type\": \"string\",\n",
    "            \"enum\": [\n",
    "              \"object\",\n",
    "              \"array\",\n",
    "              \"string\",\n",
    "              \"number\",\n",
    "              \"boolean\",\n",
    "              \"null\"\n",
    "            ]\n",
    "          },\n",
    "          \"properties\": {\n",
    "            \"type\": \"object\",\n",
    "            \"additionalProperties\": {\n",
    "              \"$ref\": \"#/$defs/schema_definition\"\n",
    "            }\n",
    "          },\n",
    "          \"items\": {\n",
    "            \"anyOf\": [\n",
    "              {\n",
    "                \"$ref\": \"#/$defs/schema_definition\"\n",
    "              },\n",
    "              {\n",
    "                \"type\": \"array\",\n",
    "                \"items\": {\n",
    "                  \"$ref\": \"#/$defs/schema_definition\"\n",
    "                }\n",
    "              }\n",
    "            ]\n",
    "          },\n",
    "          \"required\": {\n",
    "            \"type\": \"array\",\n",
    "            \"items\": {\n",
    "              \"type\": \"string\"\n",
    "            }\n",
    "          },\n",
    "          \"additionalProperties\": {\n",
    "            \"type\": \"boolean\"\n",
    "          }\n",
    "        },\n",
    "        \"required\": [\n",
    "          \"type\"\n",
    "        ],\n",
    "        \"additionalProperties\": False,\n",
    "        \"if\": {\n",
    "          \"properties\": {\n",
    "            \"type\": {\n",
    "              \"const\": \"object\"\n",
    "            }\n",
    "          }\n",
    "        },\n",
    "        \"then\": {\n",
    "          \"required\": [\n",
    "            \"properties\"\n",
    "          ]\n",
    "        }\n",
    "      }\n",
    "    }\n",
    "  }\n",
    "}\n"
   ]
  },
  {
   "cell_type": "markdown",
   "metadata": {},
   "source": [
    "Here's an example to generate json schema using descriptive language, and the return with, and without the structured output formatter."
   ]
  },
  {
   "cell_type": "code",
   "execution_count": 23,
   "metadata": {},
   "outputs": [
    {
     "data": {
      "text/plain": [
       "'{\\n  \"name\": \"Student_List_Format\",\\n  \"schema\": {\\n    \"$schema\": \"http://json-schema.org/draft-07/schema#\",\\n    \"type\": \"object\",\\n    \"additionalProperties\": false,\\n    \"properties\": {\\n      \"student\": {\\n        \"type\": \"array\",\\n        \"items\": {\\n          \"type\": \"object\",\\n          \"properties\": {\\n            \"name\": {\\n              \"type\": \"string\"\\n            },\\n            \"age\": {\\n              \"type\": \"integer\"\\n            },\\n            \"GPA\": {\\n              \"type\": \"number\"\\n            }\\n          },\\n          \"required\": [\"name\", \"age\", \"GPA\"],\\n          \"additionalProperties\": false\\n        }\\n      }\\n    },\\n    \"required\": [\"student\"]\\n  }\\n}'"
      ]
     },
     "execution_count": 23,
     "metadata": {},
     "output_type": "execute_result"
    }
   ],
   "source": [
    "json_fmt = pf_formatter.execute(user_description = \"'student' is a list of dictionary, each contains exactly 2 keys: 'name' and 'age'. 'name' is a string and 'age' is an integer. Add another GPA field also\", \n",
    "                                model = \"gpt-4o-mini\",\n",
    "                                fmt = formatter_fmt,\n",
    "                                temp = 0.02)\n",
    "json_fmt"
   ]
  },
  {
   "cell_type": "code",
   "execution_count": 24,
   "metadata": {},
   "outputs": [
    {
     "data": {
      "text/plain": [
       "{'name': 'Student_List_Format',\n",
       " 'schema': {'$schema': 'http://json-schema.org/draft-07/schema#',\n",
       "  'type': 'object',\n",
       "  'additionalProperties': False,\n",
       "  'properties': {'student': {'type': 'array',\n",
       "    'items': {'type': 'object',\n",
       "     'properties': {'name': {'type': 'string'},\n",
       "      'age': {'type': 'integer'},\n",
       "      'GPA': {'type': 'number'}},\n",
       "     'required': ['name', 'age', 'GPA'],\n",
       "     'additionalProperties': False}}},\n",
       "  'required': ['student']}}"
      ]
     },
     "execution_count": 24,
     "metadata": {},
     "output_type": "execute_result"
    }
   ],
   "source": [
    "json.loads(json_fmt)"
   ]
  },
  {
   "cell_type": "code",
   "execution_count": 28,
   "metadata": {},
   "outputs": [
    {
     "data": {
      "text/plain": [
       "{'name': 'Story_Schema',\n",
       " 'schema': {'$schema': 'http://json-schema.org/draft-07/schema#',\n",
       "  'type': 'object',\n",
       "  'additionalProperties': False,\n",
       "  'properties': {'title': {'type': 'string',\n",
       "    'description': 'The title of the story.'},\n",
       "   'characters': {'type': 'array',\n",
       "    'description': 'The characters involved in the story.',\n",
       "    'items': {'type': 'object',\n",
       "     'properties': {'name': {'type': 'string',\n",
       "       'description': 'The name of the character.'},\n",
       "      'type': {'type': 'string',\n",
       "       'description': 'The type of character (e.g., animal, human).'}},\n",
       "     'required': ['name', 'type']}},\n",
       "   'setting': {'type': 'string',\n",
       "    'description': 'The setting where the story takes place.'},\n",
       "   'plot': {'type': 'string',\n",
       "    'description': 'A brief description of the plot.'},\n",
       "   'moral': {'type': 'string', 'description': 'The moral of the story.'}},\n",
       "  'required': ['title', 'characters', 'setting', 'plot', 'moral']}}"
      ]
     },
     "execution_count": 28,
     "metadata": {},
     "output_type": "execute_result"
    }
   ],
   "source": [
    "story = '''\n",
    "The Fox and the Hedgehog\n",
    "A fox knows many things, but a hedgehog knows one big thing.\n",
    "\n",
    "The story\n",
    "Upon crossing a river, a Fox gets his tail entangled in a bush and cannot move. While the trapped and in some dismay, a swarm of mosquitoes settle on the poor Fox and tuck into a hearty meal, unable to be swished away by the vulpine’s ensnared tail. \n",
    "\n",
    "‘You are in a bad way, neighbour,’ says a passing Hedgehog, seeing the Fox’s predicament. Trying to help, the Hedgehog suggests that he drive the mosquitoes away who are sucking his blood. But the wise Fox realises that by ridding him of these insects, who’ve already had their fill, would only lead to more mosquitoes arriving with a fresh appetite…and so refuses. \n",
    "\n",
    "The moral\n",
    "Better to bear a lesser evil than to risk a greater in removing it.\n",
    "'''\n",
    "\n",
    "json_fmt = pf_formatter.execute(user_description = f\"generate a JSON schema for extracting essential setups the following story, such that rebuilding it from the json can generate a story that well resemble the original story:: \\n{story}\", \n",
    "                                model = \"gpt-4o-mini\",\n",
    "                                fmt = formatter_fmt,\n",
    "                                temp = 0.02)\n",
    "json.loads(json_fmt)"
   ]
  },
  {
   "cell_type": "code",
   "execution_count": 39,
   "metadata": {},
   "outputs": [
    {
     "data": {
      "text/plain": [
       "{'title': 'The Fox and the Hedgehog',\n",
       " 'characters': [{'name': 'Fox', 'type': 'animal'},\n",
       "  {'name': 'Hedgehog', 'type': 'animal'}],\n",
       " 'setting': 'A riverside with a bush nearby where the Fox gets trapped.',\n",
       " 'plot': 'A Fox finds himself trapped by his tail in a bush after crossing a river. While he struggles, a swarm of mosquitoes settles on him, feeding on his blood. A passing Hedgehog offers to help by driving the mosquitoes away, but the Fox wisely refuses, understanding that this would only invite more mosquitoes to come and feast on him.',\n",
       " 'moral': 'Better to bear a lesser evil than to risk a greater in removing it.'}"
      ]
     },
     "execution_count": 39,
     "metadata": {},
     "output_type": "execute_result"
    }
   ],
   "source": [
    "pf = PromptFunction('')\n",
    "response = pf.execute(ADD_BEFORE=story, model=\"gpt-4o-mini\",fmt = json.loads(json_fmt))\n",
    "story_setup = json.loads(response)\n",
    "story_setup"
   ]
  },
  {
   "cell_type": "code",
   "execution_count": 40,
   "metadata": {},
   "outputs": [
    {
     "data": {
      "text/plain": [
       "{'title': 'The Turning Point',\n",
       " 'characters': [{'name': 'John', 'type': 'human'},\n",
       "  {'name': 'Mr. Smith', 'type': 'human'},\n",
       "  {'name': 'Sarah', 'type': 'human'}],\n",
       " 'setting': 'A college campus with a mix of lecture halls, a library, and a coffee shop.',\n",
       " 'plot': 'John, a 20-year-old college student, struggles with his GPA of 2.7, which is affecting his confidence and future prospects. After a disappointing semester, he meets Mr. Smith, a mentor who encourages him to set realistic goals and develop a study plan. With the help of Sarah, a fellow student, John learns effective study techniques and time management skills. As the semester progresses, he begins to see improvements in his grades and rebuilds his confidence. By the end of the year, John raises his GPA and realizes that hard work and perseverance can lead to success.',\n",
       " 'moral': 'With determination and the right support, anyone can overcome challenges and achieve their goals.'}"
      ]
     },
     "execution_count": 40,
     "metadata": {},
     "output_type": "execute_result"
    }
   ],
   "source": [
    "pf = PromptFunction('')\n",
    "response = pf.execute(ADD_BEFORE=\"The student name is John and age is 20. Unfortunately, his GPA is 2.7 \", model=\"gpt-4o-mini\",fmt = json.loads(json_fmt))\n",
    "story_setup = json.loads(response)\n",
    "story_setup"
   ]
  },
  {
   "cell_type": "code",
   "execution_count": 37,
   "metadata": {},
   "outputs": [
    {
     "data": {
      "text/plain": [
       "\"The weather in New York is rainy, with a temperature of 42°F, and it's partially cloudy.\""
      ]
     },
     "execution_count": 37,
     "metadata": {},
     "output_type": "execute_result"
    }
   ],
   "source": [
    "pf = PromptFunction('')\n",
    "pf.execute(ADD_BEFORE = \"what's the weather in New York?\",\n",
    "           sys = \"Here's the weather in New York: Rainny, 42F, and partially cloudy.\",)\n"
   ]
  },
  {
   "cell_type": "code",
   "execution_count": 41,
   "metadata": {},
   "outputs": [
    {
     "data": {
      "text/plain": [
       "{'title': 'Rainy Day in New York',\n",
       " 'characters': [{'name': 'Alice', 'type': 'human'},\n",
       "  {'name': 'Bob', 'type': 'human'},\n",
       "  {'name': 'Mr. Whiskers', 'type': 'animal'}],\n",
       " 'setting': 'New York City, on a rainy day, temperature 42F, partially cloudy.',\n",
       " 'plot': 'Alice and Bob are best friends who decide to explore New York City despite the rain. They meet Mr. Whiskers, a clever cat who helps them find the best indoor attractions to enjoy while keeping dry.',\n",
       " 'moral': 'Sometimes, you can find joy and adventure even in the most unexpected circumstances.'}"
      ]
     },
     "execution_count": 41,
     "metadata": {},
     "output_type": "execute_result"
    }
   ],
   "source": [
    "response = pf.execute(ADD_BEFORE = \"what's the weather in New York?\",\n",
    "           sys = \"Here's the weather in New York: Rainny, 42F, and partially cloudy.\",\n",
    "           fmt = json.loads(json_fmt))\n",
    "story_setup = json.loads(response)\n",
    "story_setup"
   ]
  },
  {
   "cell_type": "markdown",
   "metadata": {},
   "source": [
    "## Function calling"
   ]
  },
  {
   "cell_type": "code",
   "execution_count": null,
   "metadata": {},
   "outputs": [],
   "source": [
    "pf_func_call_formatter = PromptFunction('''\n",
    "### Task: Generate Function Calling Definitions\n",
    "\n",
    "As an expert in creating function calling objects for auto-function invocation, your task is to generate a list of function calling definitions based on the provided user description. Follow these instructions:\n",
    "\n",
    "1. **Use the Provided User Description**: Utilize the placeholder `user_description` to tailor the function definitions. The description should inform what functions are needed.\n",
    "\n",
    "2. **Generate a List of Functions**: The output must be a JSON array (list) where each element is a JSON object with the following structure:\n",
    "   - `\"type\"`: This key must have the string value `\"function\"`.\n",
    "   - `\"function\"`: This is an object that must include:\n",
    "     - `\"name\"`: A unique function name (string).\n",
    "     - `\"description\"`: A brief description of the function's purpose (string).\n",
    "     - `\"parameters\"`: A JSON Schema object that defines the expected input parameters. It must include:\n",
    "         - `\"type\"`: Must be `\"object\"`.\n",
    "         - `\"properties\"`: An object detailing each parameter’s type and description.\n",
    "         - `\"required\"`: An array listing the names of required parameters.\n",
    "         - `\"additionalProperties\"`: A boolean value (true or false) indicating whether additional properties are allowed.\n",
    "\n",
    "3. **Output Only Valid JSON**: The final output must be valid JSON with no additional text, markdown, or explanation. It should be a JSON list of function definitions exactly as specified.\n",
    "\n",
    "**IMPORTANT**: Your final output must be a valid JSON array of function calling definitions, where each definition includes the keys `\"type\"` and `\"function\"` (with `\"name\"`, `\"description\"`, and `\"parameters\"` defined as per the instructions).\n",
    "\n",
    "### User Description\n",
    "\n",
    "<<<user_description>>>\n",
    "\n",
    "''')"
   ]
  },
  {
   "cell_type": "markdown",
   "metadata": {},
   "source": [
    "## GPT Auto-Func Calling formatter"
   ]
  },
  {
   "cell_type": "code",
   "execution_count": null,
   "metadata": {},
   "outputs": [],
   "source": [
    "tools = [{\n",
    "    \"type\": \"function\",\n",
    "    \"function\": {\n",
    "        \"name\": \"generate_json_schema\",\n",
    "        \"description\": (\n",
    "            \"Generate a JSON schema based on a user description. \"\n",
    "            \"The output must be a valid JSON object that contains the keys 'name' and 'schema'. \"\n",
    "            \"The 'schema' must follow JSON Schema Draft-07, define type 'object', \"\n",
    "            \"allow additional properties, and incorporate the structure, types, constraints, and required fields as described.\"\n",
    "        ),\n",
    "        \"parameters\": {\n",
    "            \"type\": \"object\",\n",
    "            \"properties\": {\n",
    "                \"user_description\": {\n",
    "                    \"type\": \"string\",\n",
    "                    \"description\": (\n",
    "                        \"A detailed description of the desired JSON schema. \"\n",
    "                        \"Include information about the structure, types, constraints, and required fields. \"\n",
    "                        \"For example: 'I need the JSON schema to have exactly 4 fields: weather, temperature in C, temperature in F, and location.'\"\n",
    "                    )\n",
    "                }\n",
    "            },\n",
    "            \"required\": [\"user_description\"],\n",
    "            \"additionalProperties\": False\n",
    "        },\n",
    "        \"strict\": True\n",
    "    }\n",
    "}]"
   ]
  },
  {
   "cell_type": "markdown",
   "metadata": {},
   "source": [
    "## Chain of Thoughts"
   ]
  },
  {
   "cell_type": "code",
   "execution_count": 58,
   "metadata": {},
   "outputs": [],
   "source": [
    "pf_task_chain_planner = PromptFunction('''\n",
    "You are given the following goal statement:\n",
    "<<<task>>>\n",
    "\n",
    "Task: Decompose the above goal into a comprehensive list of main actionable tasks without generating any subtasks. Provide a numbered list of tasks, where each task is clearly defined in terms of its function and prerequisites. The output should be optimized for machine parsing and contain only the main tasks, with no hierarchical breakdown.\n",
    "                                       ''')"
   ]
  },
  {
   "cell_type": "code",
   "execution_count": 62,
   "metadata": {},
   "outputs": [
    {
     "name": "stdout",
     "output_type": "stream",
     "text": [
      "1. Identify the method for calculating the cosine of an angle.\n",
      "2. Gather necessary tools or resources for calculation (e.g., calculator, software, or mathematical tables).\n",
      "3. Set the calculator or software to the correct mode (degrees).\n",
      "4. Input the angle value (24 degrees) into the calculator or software.\n",
      "5. Execute the calculation to determine the cosine of 24 degrees.\n",
      "6. Record the result of the calculation.\n"
     ]
    }
   ],
   "source": [
    "plan = pf_task_chain_planner.execute(task = \"Calculate cosine of 24 degrees.\")\n",
    "print(plan)"
   ]
  },
  {
   "cell_type": "code",
   "execution_count": 63,
   "metadata": {},
   "outputs": [
    {
     "name": "stdout",
     "output_type": "stream",
     "text": [
      "Given a task description or existing prompt, produce a detailed system prompt to guide a language model in completing the task effectively.\n",
      "\n",
      "# Guidelines\n",
      "\n",
      "- Understand the Task: Grasp the main objective, goals, requirements, constraints, and expected output.\n",
      "- Minimal Changes: If an existing prompt is provided, improve it only if it's simple. For complex prompts, enhance clarity and add missing elements without altering the original structure.\n",
      "- Reasoning Before Conclusions**: Encourage reasoning steps before any conclusions are reached. ATTENTION! If the user provides examples where the reasoning happens afterward, REVERSE the order! NEVER START EXAMPLES WITH CONCLUSIONS!\n",
      "    - Reasoning Order: Call out reasoning portions of the prompt and conclusion parts (specific fields by name). For each, determine the ORDER in which this is done, and whether it needs to be reversed.\n",
      "    - Conclusion, classifications, or results should ALWAYS appear last.\n",
      "- Examples: Include high-quality examples if helpful, using placeholders [in brackets] for complex elements.\n",
      "   - What kinds of examples may need to be included, how many, and whether they are complex enough to benefit from placeholders.\n",
      "- Clarity and Conciseness: Use clear, specific language. Avoid unnecessary instructions or bland statements.\n",
      "- Formatting: Use markdown features for readability. DO NOT USE ``` CODE BLOCKS UNLESS SPECIFICALLY REQUESTED.\n",
      "- Preserve User Content: If the input task or prompt includes extensive guidelines or examples, preserve them entirely, or as closely as possible. If they are vague, consider breaking down into sub-steps. Keep any details, guidelines, examples, variables, or placeholders provided by the user.\n",
      "- Constants: DO include constants in the prompt, as they are not susceptible to prompt injection. Such as guides, rubrics, and examples.\n",
      "- Output Format: Explicitly the most appropriate output format, in detail. This should include length and syntax (e.g. short sentence, paragraph, JSON, etc.)\n",
      "    - For tasks outputting well-defined or structured data (classification, JSON, etc.) bias toward outputting a JSON.\n",
      "    - JSON should never be wrapped in code blocks (```) unless explicitly requested.\n",
      "\n",
      "The final prompt you output should adhere to the following structure below. Do not include any additional commentary, only output the completed system prompt. SPECIFICALLY, do not include any additional messages at the start or end of the prompt. (e.g. no \"---\")\n",
      "\n",
      "[Concise instruction describing the task - this should be the first line in the prompt, no section header]\n",
      "\n",
      "[Additional details as needed.]\n",
      "\n",
      "[Optional sections with headings or bullet points for detailed steps.]\n",
      "\n",
      "# Steps [optional]\n",
      "\n",
      "[optional: a detailed breakdown of the steps necessary to accomplish the task]\n",
      "\n",
      "# Output Format\n",
      "\n",
      "[Specifically call out how the output should be formatted, be it response length, structure e.g. JSON, markdown, etc]\n",
      "\n",
      "# Examples [optional]\n",
      "\n",
      "[Optional: 1-3 well-defined examples with placeholders if necessary. Clearly mark where examples start and end, and what the input and output are. User placeholders as necessary.]\n",
      "[If the examples are shorter than what a realistic example is expected to be, make a reference with () explaining how real examples should be longer / shorter / different. AND USE PLACEHOLDERS! ]\n",
      "\n",
      "# Notes [optional]\n",
      "\n",
      "[optional: edge cases, details, and an area to call or repeat out specific important considerations]\n",
      "\n",
      "\n",
      "### Additional requirements:\n",
      "\n",
      "Here lists the additional requirement for costumization.\n",
      "* The format of the placeholder must be <<<placeholder>>>, with 'placeholder' text changed to appropriate names.\n"
     ]
    }
   ],
   "source": [
    "pf_prompt_generator = PromptFunction(load_prompt(\"prompts/openai-prompt_generator.md\"))\n",
    "print(pf_prompt_generator.prompt)"
   ]
  },
  {
   "cell_type": "code",
   "execution_count": 65,
   "metadata": {},
   "outputs": [
    {
     "data": {
      "text/plain": [
       "'Create a structured data output based on the provided input information.\\n\\nGiven a dataset of items, your task is to extract key attributes and organize them into a structured format. You should analyze the input details carefully to identify relevant attributes and their corresponding values.\\n\\n# Steps\\n\\n1. **Identify Key Attributes**: Review the input data to determine the most important characteristics that need to be extracted. Common attributes may include name, category, price, and description.\\n2. **Extract Values**: For each identified attribute, extract the appropriate value from the input data.\\n3. **Structure Data**: Organize the extracted attributes and values into a clear and concise format, ensuring that each entry is easy to read and understand.\\n\\n# Output Format\\n\\nThe output should be formatted as a JSON object, where each item is represented as a separate object within an array. Each object should contain the identified key attributes as keys and their extracted values as corresponding values. The JSON should follow this structure:\\n\\n```json\\n[\\n    {\\n        \"name\": \"<<<item_name>>>\",\\n        \"category\": \"<<<item_category>>>\",\\n        \"price\": <<<item_price>>>,\\n        \"description\": \"<<<item_description>>>\"\\n    },\\n    ...\\n]\\n```\\n\\n# Examples\\n\\nHere are examples of how to format the output based on the input data:\\n\\n**Input:**\\n- Item: Apple\\n- Category: Fruit\\n- Price: 0.50\\n- Description: Fresh red apple\\n\\n**Output:**\\n```json\\n[\\n    {\\n        \"name\": \"Apple\",\\n        \"category\": \"Fruit\",\\n        \"price\": 0.50,\\n        \"description\": \"Fresh red apple\"\\n    }\\n]\\n```\\n\\n**Input:**\\n- Item: <<<item_name>>>\\n- Category: <<<item_category>>>\\n- Price: <<<item_price>>>\\n- Description: <<<item_description>>>\\n\\n**Output:**\\n```json\\n[\\n    {\\n        \"name\": \"<<<item_name>>>\",\\n        \"category\": \"<<<item_category>>>\",\\n        \"price\": <<<item_price>>>,\\n        \"description\": \"<<<item_description>>>\"\\n    }\\n]\\n```\\n\\n# Notes\\n\\n- Ensure that all extracted values are accurately represented and that the JSON structure is valid.\\n- Consider edge cases where some attributes may be missing; in such cases, you may leave the value as null or an empty string, depending on the context.'"
      ]
     },
     "execution_count": 65,
     "metadata": {},
     "output_type": "execute_result"
    }
   ],
   "source": [
    "pf_prompt_generator.execute(user_description = \"Generate a prompt that can be used write json schema.\")"
   ]
  }
 ],
 "metadata": {
  "kernelspec": {
   "display_name": "Python 3",
   "language": "python",
   "name": "python3"
  },
  "language_info": {
   "codemirror_mode": {
    "name": "ipython",
    "version": 3
   },
   "file_extension": ".py",
   "mimetype": "text/x-python",
   "name": "python",
   "nbconvert_exporter": "python",
   "pygments_lexer": "ipython3",
   "version": "3.11.9"
  }
 },
 "nbformat": 4,
 "nbformat_minor": 2
}
