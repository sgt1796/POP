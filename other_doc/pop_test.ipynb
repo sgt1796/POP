{
 "cells": [
  {
   "cell_type": "code",
   "execution_count": 1,
   "metadata": {},
   "outputs": [],
   "source": [
    "import openai\n",
    "import json\n",
    "from dotenv import load_dotenv\n",
    "from typing import Any \n",
    "from GPT_crawler_utils import get_text_snapshot, load_prompt"
   ]
  },
  {
   "cell_type": "code",
   "execution_count": 3,
   "metadata": {},
   "outputs": [],
   "source": [
    "load_dotenv()\n",
    "client = openai.Client()\n",
    "class PromptFunction:\n",
    "    \"\"\"\n",
    "    A class representing a reusable prompt function in POP.\n",
    "    \"\"\"\n",
    "    def __init__(self, prompt: str):\n",
    "        \"\"\"\n",
    "        Initializes a new prompt function with a prompt template.\n",
    "        \n",
    "        Args:\n",
    "            prompt (str): The base prompt template for the function.\n",
    "        \"\"\"\n",
    "        self.prompt = prompt\n",
    "        self.temperature = 0.7\n",
    "\n",
    "    def execute(self, *args, **kwargs) -> str:\n",
    "        \"\"\"\n",
    "        Executes the prompt function with dynamic argument injection.\n",
    "\n",
    "        Args:\n",
    "            *args: Positional arguments to add before, after, or inject into the prompt.\n",
    "            **kwargs: Key-value arguments to replace placeholders in the prompt or provide additional context.\n",
    "\n",
    "        Returns:\n",
    "            str: The AI-generated response.\n",
    "        \"\"\"\n",
    "        use_model = kwargs.pop(\"USE_MODEL\", \"gpt-4o-mini\")\n",
    "        system_instruction = kwargs.pop(\"SYSTEM_INSTRUCTION\", None)\n",
    "        response_format = kwargs.pop(\"RESPONSE_FORMAT\", None)\n",
    "        # Step 1: Inject user arguments into the prompt\n",
    "        prompt = self._prepare_prompt(*args, **kwargs)\n",
    "\n",
    "        # Step 2: Call AI with the prepared prompt\n",
    "        return self._call_ai(prompt, use_model=use_model, system_instruction=system_instruction, response_format=response_format)\n",
    "\n",
    "    def _prepare_prompt(self, *args, **kwargs) -> str:\n",
    "        \"\"\"\n",
    "        Prepares the prompt by dynamically injecting arguments.\n",
    "\n",
    "        Args:\n",
    "            *args: Positional arguments to add to the prompt.\n",
    "            **kwargs: Key-value arguments for placeholder replacement or context.\n",
    "\n",
    "        Returns:\n",
    "            str: The modified prompt ready for execution.\n",
    "        \"\"\"\n",
    "        # Default injection modes: Before, After, or Inject placeholders\n",
    "        before = kwargs.pop(\"ADD_BEFORE\", None)\n",
    "        after = kwargs.pop(\"ADD_AFTER\", None)\n",
    "        \n",
    "\n",
    "        prompt = self.prompt\n",
    "        ## If a placeholder is provided, replace it with the value\n",
    "        for key, value in kwargs.items():\n",
    "            prompt = prompt.replace(f\"{{{key}}}\", str(value))\n",
    "\n",
    "        # Add \"before\" text if provided\n",
    "        prompt = f\"{before}\\n{prompt}\" if before else prompt\n",
    "        # Add \"after\" text if provided\n",
    "        prompt = f\"{prompt}\\n{after}\" if after else prompt\n",
    "        # Append positional arguments to the end\n",
    "        if args:\n",
    "            prompt = f\"{prompt}\\n\" + \"\\n\".join(args)\n",
    "\n",
    "        return prompt\n",
    "    \n",
    "    def _call_ai(self, formatted_prompt: str = None, use_model: str = \"gpt-4o-mini\", response_format: dict = None, system_instruction = None) -> Any:\n",
    "        \"\"\"\n",
    "        Internal method to call OpenAI API using the chat completion API.\n",
    "\n",
    "        Args:\n",
    "            formatted_prompt (str): The prepared prompt for execution.\n",
    "        \n",
    "        Returns:\n",
    "            Any: The API response.\n",
    "        \"\"\"\n",
    "        if not formatted_prompt:\n",
    "            formatted_prompt = self.prompt\n",
    "        system_instruction = \"\" if system_instruction is None else system_instruction\n",
    "        # Define request payload\n",
    "        request_payload = {\n",
    "            \"model\": use_model,\n",
    "            \"messages\": [\n",
    "                {\"role\": \"system\", \"content\": f\"You are a helpful assistant that perform tasks user asked to. Here's addition instruction if any: \\n{system_instruction}\"},\n",
    "                {\"role\": \"user\", \"content\": formatted_prompt}\n",
    "            ],\n",
    "            \"temperature\": self.temperature\n",
    "        }\n",
    "\n",
    "        if response_format:\n",
    "            request_payload[\"response_format\"] = {\n",
    "                \"type\": \"json_schema\",\n",
    "                \"json_schema\": response_format\n",
    "            }\n",
    "\n",
    "        response = client.chat.completions.create(**request_payload)\n",
    "        return response.choices[0].message.content\n",
    "    \n",
    "    def _improve_prompt(self, replace = False, use_prompt = \"fabric\", instruction = None, system_instruction = None) -> str:\n",
    "        \"\"\"\n",
    "        Improving prompt using the improve_prompt pattern provided by fabric or an user provided metaprompt.\n",
    "\n",
    "        Args:\n",
    "            replace (bool): Whether to replace the existing prompt in addition to returning it.\n",
    "            use_prompt (str): The metaprompt to use for improving the prompt.\n",
    "\n",
    "        Returns:\n",
    "            str: The improved prompt.\n",
    "        \"\"\"\n",
    "        if use_prompt == \"fabric\":\n",
    "            file = \"fabric-improve_prompt.md\"\n",
    "        \n",
    "        try:\n",
    "            with open(file, 'r', encoding='utf-8') as f:\n",
    "                instruction = f.read()\n",
    "        except FileNotFoundError:\n",
    "            raise FileNotFoundError(f\"File not found: {file}\")\n",
    "        \n",
    "        # use instruction to improve prompt\n",
    "        instruction = \"\" if instruction is None else instruction\n",
    "        improved_prompt = self.execute(ADD_BEFORE=f\"\\naddition instruction:\\n{instruction} \\nyou must preserve the original placeholder in the improved prompt if there is one.\\n\\n\"+instruction,\n",
    "                                       USE_MODEL=\"gpt-4o\", \n",
    "                                       SYSTEM_INSTRUCTION = system_instruction)\n",
    "        \n",
    "        improved_prompt = improved_prompt.split(\"# OUTPUT\\n\\n\")[-1] if use_prompt == \"fabric\" else improved_prompt\n",
    "\n",
    "        if replace:\n",
    "            self.prompt = improved_prompt\n",
    "        else:\n",
    "            return improved_prompt\n",
    "        \n",
    "    def set_temperature(self, temperature: float) -> None:\n",
    "        \"\"\"\n",
    "        Sets the temperature for the AI model.\n",
    "\n",
    "        Args:\n",
    "            temperature (float): The temperature value to set.\n",
    "        \"\"\"\n",
    "        self.temperature = temperature\n",
    "\n",
    "    def save(self, file_path: str) -> None:\n",
    "        \"\"\"\n",
    "        Saves the prompt function to a file.\n",
    "\n",
    "        Args:\n",
    "            file_path (str): The file path to save the prompt function to.\n",
    "        \"\"\"\n",
    "        with open(file_path, \"w\") as file:\n",
    "            file.write(self.prompt)"
   ]
  },
  {
   "cell_type": "code",
   "execution_count": 20,
   "metadata": {},
   "outputs": [
    {
     "name": "stdout",
     "output_type": "stream",
     "text": [
      "```markdown\n",
      "### Task\n",
      "\n",
      "Create a haiku based on the following input:\n",
      "\n",
      "**Input:** `{input}`\n",
      "\n",
      "### Instructions\n",
      "\n",
      "1. Capture the essence of the input in a three-line haiku.\n",
      "2. Follow the traditional haiku structure with a syllable pattern of 5-7-5.\n",
      "3. Ensure the haiku evokes imagery or emotion related to the input.\n",
      "\n",
      "### Example\n",
      "\n",
      "- **Input:** \"Autumn leaves\"\n",
      "- **Haiku:**\n",
      "\n",
      "  ```\n",
      "  Leaves fall gracefully  \n",
      "  Whispering secrets of time  \n",
      "  Autumn's gentle breath  \n",
      "  ```\n",
      "```\n"
     ]
    }
   ],
   "source": [
    "pf = PromptFunction(\"For a given input, return a haiku about it. {input}\")\n",
    "pf._improve_prompt(replace=True)\n",
    "print(pf.prompt)"
   ]
  },
  {
   "cell_type": "code",
   "execution_count": 21,
   "metadata": {},
   "outputs": [
    {
     "name": "stdout",
     "output_type": "stream",
     "text": [
      "**Haiku:**\n",
      "\n",
      "```\n",
      "Sunset's gentle glow\n",
      "Spreading warmth through the cool sky\n",
      "Beauty fades to night\n",
      "```\n"
     ]
    }
   ],
   "source": [
    "print(pf.execute(input=\"A beautiful sunset\"))"
   ]
  },
  {
   "cell_type": "code",
   "execution_count": 22,
   "metadata": {},
   "outputs": [
    {
     "name": "stdout",
     "output_type": "stream",
     "text": [
      "**Haiku:**\n",
      "\n",
      "Apple's red delight  \n",
      "Whispers of nature's sweet gifts  \n",
      "In crisp morning light\n"
     ]
    }
   ],
   "source": [
    "print(pf.execute(ADD_BEFORE = \"use shakespear style\", input=\"An apple\"))"
   ]
  },
  {
   "cell_type": "markdown",
   "metadata": {},
   "source": [
    "## Test playground"
   ]
  },
  {
   "cell_type": "code",
   "execution_count": 81,
   "metadata": {},
   "outputs": [
    {
     "name": "stdout",
     "output_type": "stream",
     "text": [
      "```markdown\n",
      "**Task:** Extract and reformat the main text content from the provided website text snapshot.\n",
      "\n",
      "**Instructions:**\n",
      "\n",
      "1. **Extract Content:** Identify and return only the main text content from the snapshot. Exclude any advertisements or irrelevant information.\n",
      "\n",
      "2. **Reformat for Readability:** Reformat the extracted text to enhance readability. This may include adjusting paragraph breaks, correcting any formatting issues, and ensuring the text flows logically.\n",
      "\n",
      "3. **Output:** Present the reformatted text in a clean and organized manner.\n",
      "\n",
      "**Note:** Ensure that the final output is free from any non-essential elements and focuses solely on delivering the core content in an easily digestible format.\n",
      "```\n"
     ]
    }
   ],
   "source": [
    "pf = PromptFunction(\"Return the text content of the provided website text snapshot, do not include any ads or irrelevant information. Reformat the text to make it more readable.\")\n",
    "\n",
    "pf._improve_prompt(replace=True)\n",
    "print(pf.prompt)"
   ]
  },
  {
   "cell_type": "code",
   "execution_count": 85,
   "metadata": {},
   "outputs": [
    {
     "name": "stdout",
     "output_type": "stream",
     "text": [
      "**Title:** Car crashes through front of Iceland store in Smethwick\n",
      "\n",
      "A car has smashed through the front of an Iceland supermarket on a high street in the West Midlands, coming to rest inside the store. The incident occurred on Bearwood Road in Bearwood, Smethwick, which was subsequently closed. The incident happened at about 19:55 GMT, after the store had closed for the day according to the store's online opening hours.\n",
      "\n",
      "The fire service, which dispatched two appliances to the scene, reported that there had been no rescues. West Midlands Police also attended the scene. National Express West Midlands reported that five bus services had been diverted due to the incident and apologized for any inconvenience to passengers.\n"
     ]
    }
   ],
   "source": [
    "url = \"https://www.bbc.com/news/articles/cdd0vp95v9yo\"\n",
    "json_schema = {\n",
    "    \"type\": \"object\",\n",
    "    \"properties\": {\n",
    "        \"content\": {\n",
    "            \"type\": \"string\"\n",
    "        }\n",
    "    }\n",
    "}\n",
    "print(pf.execute(get_text_snapshot(url), response_format=json_schema))"
   ]
  },
  {
   "cell_type": "markdown",
   "metadata": {},
   "source": [
    "### Test on Generalization of a story crawler prompt"
   ]
  },
  {
   "cell_type": "code",
   "execution_count": 4,
   "metadata": {},
   "outputs": [],
   "source": [
    "content_finder = PromptFunction(load_prompt(\"2024-11-19-content_finder.md\"))\n",
    "get_title_and_url = PromptFunction(load_prompt(\"2024-11-19-get_title_and_url.md\"))\n",
    "get_content = PromptFunction(load_prompt(\"2024-11-19-get_content.md\"))"
   ]
  },
  {
   "cell_type": "code",
   "execution_count": 58,
   "metadata": {},
   "outputs": [
    {
     "data": {
      "text/plain": [
       "'```json\\n{\\n    \"error\": \"Refused: No suitable bedtime stories found.\"\\n}\\n```'"
      ]
     },
     "execution_count": 58,
     "metadata": {},
     "output_type": "execute_result"
    }
   ],
   "source": [
    "content_finder.execute(get_text_snapshot(\"www.bbc.com/news/articles\"), USE_MODEL=\"gpt-4o\")"
   ]
  },
  {
   "cell_type": "code",
   "execution_count": 78,
   "metadata": {},
   "outputs": [
    {
     "name": "stdout",
     "output_type": "stream",
     "text": [
      "```markdown\n",
      "Given a webpage URL, your task is to analyze its content and identify categories relevant to the specified topic. Follow these instructions carefully:\n",
      "\n",
      "1. **Extract Categories**:\n",
      "   - Examine the webpage to identify categories relevant to the topic provided.\n",
      "\n",
      "2. **Criteria for Selection**:\n",
      "   - Categories should be broad enough to cover multiple subtopics but specific enough to offer a clear theme or genre.\n",
      "   - Ensure the categories are present on the website with accessible URLs.\n",
      "   - Each category should lead to a page that elaborates on the subject matter.\n",
      "\n",
      "3. **Handling Unsuitable Content**:\n",
      "   - If the webpage does not align with the specified topic or contains minimal relevant content, classify it as unsuitable.\n",
      "   - For webpages with no suitable content, use the response format: `{\"error\": \"Refused: No suitable content found.\"}`\n",
      "\n",
      "4. **Error Handling**:\n",
      "   - If the webpage URL is invalid or the content is inaccessible, provide an appropriate error message in the response.\n",
      "   - Do not fabricate URLs; they must be present on the webpage.\n",
      "\n",
      "5. **Output Format**:\n",
      "   - Present your findings in a JSON object format.\n",
      "   - Use the key `categories` followed by a list of identified categories relevant to the topic.\n",
      "   - Ensure the output is clean, with categories listed clearly and concisely.\n",
      "\n",
      "**Example Output for a Suitable Webpage**:\n",
      "\n",
      "```json\n",
      "{\n",
      "    \"categories\": {\"Technology\": \"url to page\", \"Health\": \"url to page\", \"Education\": \"url to page\"}\n",
      "}\n",
      "```\n",
      "\n",
      "**Example Output for an Unsuitable Webpage**:\n",
      "\n",
      "```json\n",
      "{\n",
      "    \"error\": \"Refused: No suitable content found.\"\n",
      "}\n",
      "```\n",
      "\n",
      "Focus on identifying themes that are relevant and engaging for the specified topic, ensuring comprehensive and informative content.\n",
      "```\n"
     ]
    }
   ],
   "source": [
    "system_instruction = \"Make this prompt more general so it can be used for any website for a given topic to crawl, not just bedtime story for kids.\"\n",
    "general_content_finder = content_finder._improve_prompt(use_prompt=\"fabric\", system_instruction=system_instruction)\n",
    "general_get_title_and_url = get_title_and_url._improve_prompt(use_prompt=\"fabric\", system_instruction=system_instruction)\n",
    "general_get_content = get_content._improve_prompt(use_prompt=\"fabric\", system_instruction=system_instruction)\n",
    "\n",
    "general_content_finder = PromptFunction(general_content_finder)\n",
    "general_get_title_and_url = PromptFunction(general_get_title_and_url)\n",
    "general_get_content = PromptFunction(general_get_content)\n",
    "\n",
    "print(general_content_finder.prompt)"
   ]
  },
  {
   "cell_type": "code",
   "execution_count": 79,
   "metadata": {},
   "outputs": [],
   "source": [
    "general_content_finder.save(\"content_finder.md\")\n",
    "general_get_title_and_url.save(\"get_title_and_url.md\")\n",
    "general_get_content.save(\"get_content.md\")"
   ]
  },
  {
   "cell_type": "code",
   "execution_count": 5,
   "metadata": {},
   "outputs": [],
   "source": [
    "content_finder = PromptFunction(load_prompt(\"content_finder.md\"))\n",
    "get_title_and_url = PromptFunction(load_prompt(\"get_title_and_url.md\"))\n",
    "get_content = PromptFunction(load_prompt(\"get_content.md\"))"
   ]
  },
  {
   "cell_type": "code",
   "execution_count": 27,
   "metadata": {},
   "outputs": [
    {
     "name": "stdout",
     "output_type": "stream",
     "text": [
      "{\"news_categories\":{\"US & Canada\":\"https://www.bbc.com/news/us-canada\",\"UK\":\"https://www.bbc.com/news/uk\",\"Africa\":\"https://www.bbc.com/news/world/africa\",\"Asia\":\"https://www.bbc.com/news/world/asia\",\"Australia\":\"https://www.bbc.com/news/world/australia\",\"Europe\":\"https://www.bbc.com/news/world/europe\",\"Latin America\":\"https://www.bbc.com/news/world/latin_america\",\"Middle East\":\"https://www.bbc.com/news/world/middle_east\",\"Israel-Gaza War\":\"https://www.bbc.com/news/topics/c2vdnvdg6xxt\",\"War in Ukraine\":\"https://www.bbc.com/news/war-in-ukraine\"}}\n"
     ]
    }
   ],
   "source": [
    "response_format = {\n",
    "        \"name\": \"world_news_articles\",\n",
    "        \"schema\": {\n",
    "            \"type\": \"object\",\n",
    "            \"properties\": {\n",
    "                \"news_categories\": {\n",
    "                    \"type\": \"object\"\n",
    "                }\n",
    "            },\n",
    "            \"additionalProperties\": False,\n",
    "            \"required\": [\"news_categories\"],\n",
    "        }\n",
    "    }\n",
    "\n",
    "content_finder.set_temperature(1)\n",
    "categories = content_finder.execute(get_text_snapshot(\"www.bbc.com/news/articles\", links_at_end=True), \n",
    "                                            USE_MODEL=\"gpt-4o\", \n",
    "                                            ADD_BEFORE = \"I'm looking for world news articles of different countries.\",\n",
    "                                            RESPONSE_FORMAT=response_format)\n",
    "print(categories)"
   ]
  },
  {
   "cell_type": "code",
   "execution_count": 21,
   "metadata": {},
   "outputs": [
    {
     "data": {
      "text/plain": [
       "{'News': 'https://www.bbc.com/news',\n",
       " 'Sport': 'https://www.bbc.com/sport',\n",
       " 'Business': 'https://www.bbc.com/business',\n",
       " 'Innovation': 'https://www.bbc.com/innovation',\n",
       " 'Culture': 'https://www.bbc.com/culture',\n",
       " 'Arts': 'https://www.bbc.com/arts',\n",
       " 'Travel': 'https://www.bbc.com/travel',\n",
       " 'Earth': 'https://www.bbc.com/future-planet',\n",
       " 'Israel-Gaza War': 'https://www.bbc.com/news/topics/c2vdnvdg6xxt',\n",
       " 'War in Ukraine': 'https://www.bbc.com/news/war-in-ukraine',\n",
       " 'US Election': 'https://www.bbc.com/news/topics/cj3ergr8209t',\n",
       " 'US & Canada': 'https://www.bbc.com/news/us-canada',\n",
       " 'UK': 'https://www.bbc.com/news/uk',\n",
       " 'Africa': 'https://www.bbc.com/news/world/africa',\n",
       " 'Asia': 'https://www.bbc.com/news/world/asia',\n",
       " 'Australia': 'https://www.bbc.com/news/world/australia',\n",
       " 'Europe': 'https://www.bbc.com/news/world/europe',\n",
       " 'Latin America': 'https://www.bbc.com/news/world/latin_america',\n",
       " 'Middle East': 'https://www.bbc.com/news/world/middle_east'}"
      ]
     },
     "execution_count": 21,
     "metadata": {},
     "output_type": "execute_result"
    }
   ],
   "source": [
    "json.loads(categories).get(\"news_categories\", )"
   ]
  },
  {
   "cell_type": "code",
   "execution_count": 28,
   "metadata": {},
   "outputs": [
    {
     "name": "stdout",
     "output_type": "stream",
     "text": [
      "US & Canada: https://www.bbc.com/news/us-canada\n"
     ]
    }
   ],
   "source": [
    "categories = json.loads(categories).get(\"news_categories\", {})\n",
    "# get the first category\n",
    "category = list(categories.keys())[0]\n",
    "category_url = categories[category]\n",
    "\n",
    "print(f\"{category}: {category_url}\")"
   ]
  },
  {
   "cell_type": "code",
   "execution_count": 39,
   "metadata": {},
   "outputs": [
    {
     "data": {
      "text/plain": [
       "'{\"titles_and_urls\":[{\"title\":\"Trudeau says he is ready to work with Trump amid tariff threats\",\"url\":\"https://www.bbc.com/news/articles/cj6kj2752jlo\"},{\"title\":\"NFL star handcuffed before game sees his traffic ticket dropped\",\"url\":\"https://www.bbc.com/news/articles/c4gz14q32gxo\"},{\"title\":\"\\'Like a golden ticket\\' - Menendez brothers case sparks frenzy in LA\",\"url\":\"https://www.bbc.com/news/articles/cdxy5d2q4y4o\"},{\"title\":\"Judge rejects effort to stop transgender college volleyball player competing\",\"url\":\"https://www.bbc.com/news/articles/cvgxjmnnxwno\"},{\"title\":\"US universities warn foreign students on Trump immigration crackdown\",\"url\":\"https://www.bbc.com/news/articles/czxvz4re5y1o\"},{\"title\":\"Triumph over legal cases seals Trump\\'s comeback\",\"url\":\"https://www.bbc.com/news/articles/c39nmy17em2o\"},{\"title\":\"US woman jailed for fatally shooting neighbour through door\",\"url\":\"https://www.bbc.com/news/articles/c5ygd59q7l1o\"},{\"title\":\"President Biden pardons turkeys at White House\",\"url\":\"https://www.bbc.com/news/videos/c4gxvq5pygdo\"},{\"title\":\"US Capitol Christmas tree arrives in DC\",\"url\":\"https://www.bbc.com/news/videos/cp87rdj8kk2o\"},{\"title\":\"Can RFK Jr make America\\'s diet healthy again?\",\"url\":\"https://www.bbc.com/news/articles/cze391y17z7o\"},{\"title\":\"Who has joined Trump\\'s top team?\",\"url\":\"https://www.bbc.com/news/articles/cx24gze60yzo\"},{\"title\":\"Who are the Menendez family, at centre of US murder case?\",\"url\":\"https://www.bbc.com/news/articles/cy7dzy2pdjgo\"},{\"title\":\"The rise and fall of Matt Gaetz in eight wild days\",\"url\":\"https://www.bbc.com/news/articles/c99r2m4y2zro\"},{\"title\":\"US travellers pack airports ahead of Thanksgiving holiday\",\"url\":\"https://www.bbc.com/news/videos/c629ygl12wgo\"},{\"title\":\"Special counsel\\'s last criminal case against Trump dismissed\",\"url\":\"https://www.bbc.com/news/articles/c4gvd7kxxj5o\"},{\"title\":\"Would Donald Trump’s tariffs hurt US consumers?\",\"url\":\"https://www.bbc.com/news/articles/c20myx1erl6o\"}],\"next_page\":\"\"}'"
      ]
     },
     "execution_count": 39,
     "metadata": {},
     "output_type": "execute_result"
    }
   ],
   "source": [
    "response_format = {\n",
    "        \"name\": \"news_articles\",\n",
    "        \"schema\": {\n",
    "            \"type\": \"object\",\n",
    "            \"properties\": {\n",
    "                \"title\": {\n",
    "                    \"type\": \"string\"\n",
    "                },\n",
    "                \"url\": {\n",
    "                    \"type\": \"string\"\n",
    "                }\n",
    "            },\n",
    "            \"additionalProperties\": False,\n",
    "            \"required\": [\"title\", \"url\"],\n",
    "        }\n",
    "    }\n",
    "snapshot = get_text_snapshot(category_url, links_at_end=True)\n",
    "snapshot_links = snapshot[snapshot.find(\"Links/Buttons:\"):]\n",
    "titles_and_urls = get_title_and_url.execute(snapshot_links, \n",
    "                          ADD_BEFORE = f\"I'm looking for news articles on {category}, please provide me with the title and URL of the articles.\",\n",
    "                          USE_MODEL=\"gpt-4o-mini\",\n",
    "                          RESPONSE_FORMAT=response_format)\n",
    "titles_and_urls"
   ]
  },
  {
   "cell_type": "code",
   "execution_count": 40,
   "metadata": {},
   "outputs": [
    {
     "data": {
      "text/plain": [
       "[{'title': 'Trudeau says he is ready to work with Trump amid tariff threats',\n",
       "  'url': 'https://www.bbc.com/news/articles/cj6kj2752jlo'},\n",
       " {'title': 'NFL star handcuffed before game sees his traffic ticket dropped',\n",
       "  'url': 'https://www.bbc.com/news/articles/c4gz14q32gxo'},\n",
       " {'title': \"'Like a golden ticket' - Menendez brothers case sparks frenzy in LA\",\n",
       "  'url': 'https://www.bbc.com/news/articles/cdxy5d2q4y4o'},\n",
       " {'title': 'Judge rejects effort to stop transgender college volleyball player competing',\n",
       "  'url': 'https://www.bbc.com/news/articles/cvgxjmnnxwno'},\n",
       " {'title': 'US universities warn foreign students on Trump immigration crackdown',\n",
       "  'url': 'https://www.bbc.com/news/articles/czxvz4re5y1o'},\n",
       " {'title': \"Triumph over legal cases seals Trump's comeback\",\n",
       "  'url': 'https://www.bbc.com/news/articles/c39nmy17em2o'},\n",
       " {'title': 'US woman jailed for fatally shooting neighbour through door',\n",
       "  'url': 'https://www.bbc.com/news/articles/c5ygd59q7l1o'},\n",
       " {'title': 'President Biden pardons turkeys at White House',\n",
       "  'url': 'https://www.bbc.com/news/videos/c4gxvq5pygdo'},\n",
       " {'title': 'US Capitol Christmas tree arrives in DC',\n",
       "  'url': 'https://www.bbc.com/news/videos/cp87rdj8kk2o'},\n",
       " {'title': \"Can RFK Jr make America's diet healthy again?\",\n",
       "  'url': 'https://www.bbc.com/news/articles/cze391y17z7o'},\n",
       " {'title': \"Who has joined Trump's top team?\",\n",
       "  'url': 'https://www.bbc.com/news/articles/cx24gze60yzo'},\n",
       " {'title': 'Who are the Menendez family, at centre of US murder case?',\n",
       "  'url': 'https://www.bbc.com/news/articles/cy7dzy2pdjgo'},\n",
       " {'title': 'The rise and fall of Matt Gaetz in eight wild days',\n",
       "  'url': 'https://www.bbc.com/news/articles/c99r2m4y2zro'},\n",
       " {'title': 'US travellers pack airports ahead of Thanksgiving holiday',\n",
       "  'url': 'https://www.bbc.com/news/videos/c629ygl12wgo'},\n",
       " {'title': \"Special counsel's last criminal case against Trump dismissed\",\n",
       "  'url': 'https://www.bbc.com/news/articles/c4gvd7kxxj5o'},\n",
       " {'title': 'Would Donald Trump’s tariffs hurt US consumers?',\n",
       "  'url': 'https://www.bbc.com/news/articles/c20myx1erl6o'}]"
      ]
     },
     "execution_count": 40,
     "metadata": {},
     "output_type": "execute_result"
    }
   ],
   "source": [
    "next_page = json.loads(titles_and_urls).get(\"next_page\", \"\")\n",
    "titles_and_urls = json.loads(titles_and_urls).get(\"titles_and_urls\", [])\n",
    "titles_and_urls"
   ]
  },
  {
   "cell_type": "code",
   "execution_count": 42,
   "metadata": {},
   "outputs": [
    {
     "name": "stdout",
     "output_type": "stream",
     "text": [
      "Title: Trudeau says he is ready to work with Trump amid tariff threats\n",
      "URL: https://www.bbc.com/news/articles/cj6kj2752jlo\n"
     ]
    }
   ],
   "source": [
    "article = titles_and_urls[0].get(\"title\", \"\")\n",
    "article_url = titles_and_urls[0].get(\"url\", \"\")\n",
    "\n",
    "print(f\"Title: {article}\\nURL: {article_url}\")"
   ]
  },
  {
   "cell_type": "code",
   "execution_count": 47,
   "metadata": {},
   "outputs": [
    {
     "data": {
      "text/plain": [
       "'{\"title\":\"Trudeau says he is ready to work with Trump amid tariff threats\",\"author\":\"James FitzGerald and Nadine Yousif\",\"content\":\"Canadian Prime Minister Justin Trudeau has said his country is prepared to work with the US in \\\\\"constructive ways\\\\\" after President-elect Donald Trump vowed to introduce 25% tariffs on goods coming from Canada.\\\\n\\\\nThe tariff proposal made by Trump has caused deep concern among Canadian officials, including provincial leaders.\\\\n\\\\nTrump also said he would impose duties on Mexico and an extra 10% on goods coming from China.\\\\n\\\\nTrudeau sought to reassure Canadians and will hold a meeting on Wednesday with provincial and territorial leaders to discuss how to move forward.\\\\n\\\\n\\\\\"This is a relationship that we know takes a certain amount of working on, and that\\'s what we\\'ll do,\\\\\" Trudeau told reporters on Tuesday.\\\\n\\\\nHe and Trump spoke over the phone on Monday evening, after the president-elect announced the proposed tariffs in a post on Truth Social.\\\\n\\\\nThe two discussed trade and border security, with Trudeau pointing out that the number of migrants crossing the Canadian border was much smaller compared to the US-Mexico border.\\\\n\\\\nTrudeau said he also immediately reached out to schedule an urgent meeting between the prime minister and Canadian premiers.\\\\n\\\\nCanadian officials have emphasised the joint work done regularly on the shared border and have stressed the importance of the US-Canada trading partnership.\\\\n\\\\n\\\\\"The things we sell to the United States are the things they really need,\\\\\" Deputy Prime Minister Chrystia Freeland said on Tuesday.\\\\n\\\\n\\\\\"We sell them oil, we sell them electricity, we sell them critical minerals and metals.\\\\\"\\\\n\\\\nShe said Canada would present a united front, and suggested Ottawa is considering targeted counter-tariffs. \\\\n\\\\nThat is something Ottawa has done in the past, a strategy Freeland pointed to as a \\\\\"successful\\\\\" response.\\\\n\\\\nAmerica\\'s northern neighbour accounted for some US$437bn (£347bn) of US imports in 2022, and was the largest market for US exports in the same year, according to US data.\\\\n\\\\nCanada sends about 75% of its total exports to the US.\\\\n\\\\nThe 25% tariff on goods from Canada would be signed straight after he took office on 20 January 2025, Trump said on Monday.\\\\n\\\\nHe described the move as an effort to get the three other countries to toughen up on the illegal flow to the US of people and drugs, specifically fentanyl.\\\\n\\\\nDoug Ford, the premier of Ontario, Canada\\'s most populous province, said on Monday the proposed tariff would be \\\\\"devastating to workers and jobs in both Canada and the US\\\\\".\\\\n\\\\nHe also agreed that border security was a concern: \\\\\"Do we need to do a better job on our borders? 1,000%,\\\\\" he told reporters on Tuesday.\\\\n\\\\nFord was echoed by the premiers of Quebec, Saskatchewan and British Columbia, while a post on the X account of Alberta Premier Danielle Smith acknowledged that Trump had \\\\\"valid concerns related to illegal activities at our shared border\\\\\".\\\\n\\\\nThe Canadian American Business Council (CABC) said \\\\\"we strongly oppose\\\\\" the proposed tariff, which the council said would undermine a North American trade agreement between Canada, the US and Mexico that was renegotiated under Trump\\'s first term.\\\\n\\\\nThe CABC statement added that the move would \\\\\"harm businesses on both sides of the border and erode the economic and geopolitical strength of North America\\\\\".\\\\n\\\\nOther business voices urged calm. \\\\\"We\\'ve gamed out the possibilities that he lumps Canada and Mexico issues together, we\\'ve been there before,\\\\\" said the head of Canada\\'s Automotive Parts Manufacturers\\'\\u200b Association (APMA) in a statement reported by CBC. \\\\\"We are prepared and connected.\\\\\"\\\\n\\\\nTariff hikes touted by Trump on the election trail could be a negotiating strategy, it has previously been suggested by the man picked by the US president-elect to be his new treasury secretary.\\\\n\\\\n\\\\\"My general view is that at the end of the day, he\\'s a free trader,\\\\\" Scott Bessent said of Trump in an interview with the Financial Times before he was nominated for the role. “It’s escalate to de-escalate.”\\\\n\\\\nTrump\\'s new border tsar Tom Homan has called the northern border an \\\\\"extreme national security vulnerability\\\\\". He has alleged that Canada is being used as a path to enter the US by people from countries deemed to sponsor terrorism.\\\\n\\\\nIllegal crossings from Canada to the US are vastly outnumbered by the number that take place from Mexico, another country targeted by Trump\\'s planned tariffs. But there appears to have been a surge.\\\\n\\\\nRobert Garcia, a border official covering the US north-east, said last month that more than 19,000 people from 97 different countries had been arrested over the previous 12 months, which was more than \\\\\"the last 17 fiscal years combined\\\\\".\\\\n\\\\nExperts have told the BBC that America\\'s northern border is longer and less guarded than the southern one.\\\\n\\\\nOne recent high-profile trial in the US shed light on smuggling operations that help foreign nationals move to North America unlawfully.\\\\n\\\\nA jury in the US state of Minnesota found two men guilty of helping bring an Indian family from Canada to the US in January 2022, leading to their deaths.\\\\n\\\\nMark Miller, Canada\\'s immigration minister, said on Tuesday that the US and Canada have a shared interest in making sure the border is \\\\\"manageable and controlled\\\\\".\\\\n\\\\nHe added Canada is looking at a number of measures, including deploying additional resources and bolstering the number of agents to patrol the border.\"}'"
      ]
     },
     "execution_count": 47,
     "metadata": {},
     "output_type": "execute_result"
    }
   ],
   "source": [
    "response_format = {\n",
    "        \"name\": \"article_content\",\n",
    "        \"schema\": {\n",
    "            \"type\": \"object\",\n",
    "            \"properties\": {\n",
    "                \"content\": {\n",
    "                    \"type\": \"string\"\n",
    "                }\n",
    "            },\n",
    "            \"additionalProperties\": False,\n",
    "            \"required\": [\"content\"],\n",
    "        }\n",
    "    }\n",
    "\n",
    "content = get_content.execute(get_text_snapshot(article_url), \n",
    "                                ADD_BEFORE = f\"I'm looking for the content of the article titled {article}.\",\n",
    "                                USE_MODEL=\"gpt-4o-mini\",\n",
    "                                RESPONSE_FORMAT = response_format)\n",
    "content"
   ]
  },
  {
   "cell_type": "code",
   "execution_count": 49,
   "metadata": {},
   "outputs": [
    {
     "name": "stdout",
     "output_type": "stream",
     "text": [
      "Title: Trudeau says he is ready to work with Trump amid tariff threats\n",
      "Author: James FitzGerald and Nadine Yousif\n",
      "Content: Canadian Prime Minister Justin Trudeau has said his country is prepared to work with the US in \"constructive ways\" after President-elect Donald Trump vowed to introduce 25% tariffs on goods coming from Canada.\n",
      "\n",
      "The tariff proposal made by Trump has caused deep concern among Canadian officials, including provincial leaders.\n",
      "\n",
      "Trump also said he would impose duties on Mexico and an extra 10% on goods coming from China.\n",
      "\n",
      "Trudeau sought to reassure Canadians and will hold a meeting on Wednesday with provincial and territorial leaders to discuss how to move forward.\n",
      "\n",
      "\"This is a relationship that we know takes a certain amount of working on, and that's what we'll do,\" Trudeau told reporters on Tuesday.\n",
      "\n",
      "He and Trump spoke over the phone on Monday evening, after the president-elect announced the proposed tariffs in a post on Truth Social.\n",
      "\n",
      "The two discussed trade and border security, with Trudeau pointing out that the number of migrants crossing the Canadian border was much smaller compared to the US-Mexico border.\n",
      "\n",
      "Trudeau said he also immediately reached out to schedule an urgent meeting between the prime minister and Canadian premiers.\n",
      "\n",
      "Canadian officials have emphasised the joint work done regularly on the shared border and have stressed the importance of the US-Canada trading partnership.\n",
      "\n",
      "\"The things we sell to the United States are the things they really need,\" Deputy Prime Minister Chrystia Freeland said on Tuesday.\n",
      "\n",
      "\"We sell them oil, we sell them electricity, we sell them critical minerals and metals.\"\n",
      "\n",
      "She said Canada would present a united front, and suggested Ottawa is considering targeted counter-tariffs. \n",
      "\n",
      "That is something Ottawa has done in the past, a strategy Freeland pointed to as a \"successful\" response.\n",
      "\n",
      "America's northern neighbour accounted for some US$437bn (£347bn) of US imports in 2022, and was the largest market for US exports in the same year, according to US data.\n",
      "\n",
      "Canada sends about 75% of its total exports to the US.\n",
      "\n",
      "The 25% tariff on goods from Canada would be signed straight after he took office on 20 January 2025, Trump said on Monday.\n",
      "\n",
      "He described the move as an effort to get the three other countries to toughen up on the illegal flow to the US of people and drugs, specifically fentanyl.\n",
      "\n",
      "Doug Ford, the premier of Ontario, Canada's most populous province, said on Monday the proposed tariff would be \"devastating to workers and jobs in both Canada and the US\".\n",
      "\n",
      "He also agreed that border security was a concern: \"Do we need to do a better job on our borders? 1,000%,\" he told reporters on Tuesday.\n",
      "\n",
      "Ford was echoed by the premiers of Quebec, Saskatchewan and British Columbia, while a post on the X account of Alberta Premier Danielle Smith acknowledged that Trump had \"valid concerns related to illegal activities at our shared border\".\n",
      "\n",
      "The Canadian American Business Council (CABC) said \"we strongly oppose\" the proposed tariff, which the council said would undermine a North American trade agreement between Canada, the US and Mexico that was renegotiated under Trump's first term.\n",
      "\n",
      "The CABC statement added that the move would \"harm businesses on both sides of the border and erode the economic and geopolitical strength of North America\".\n",
      "\n",
      "Other business voices urged calm. \"We've gamed out the possibilities that he lumps Canada and Mexico issues together, we've been there before,\" said the head of Canada's Automotive Parts Manufacturers'​ Association (APMA) in a statement reported by CBC. \"We are prepared and connected.\"\n",
      "\n",
      "Tariff hikes touted by Trump on the election trail could be a negotiating strategy, it has previously been suggested by the man picked by the US president-elect to be his new treasury secretary.\n",
      "\n",
      "\"My general view is that at the end of the day, he's a free trader,\" Scott Bessent said of Trump in an interview with the Financial Times before he was nominated for the role. “It’s escalate to de-escalate.”\n",
      "\n",
      "Trump's new border tsar Tom Homan has called the northern border an \"extreme national security vulnerability\". He has alleged that Canada is being used as a path to enter the US by people from countries deemed to sponsor terrorism.\n",
      "\n",
      "Illegal crossings from Canada to the US are vastly outnumbered by the number that take place from Mexico, another country targeted by Trump's planned tariffs. But there appears to have been a surge.\n",
      "\n",
      "Robert Garcia, a border official covering the US north-east, said last month that more than 19,000 people from 97 different countries had been arrested over the previous 12 months, which was more than \"the last 17 fiscal years combined\".\n",
      "\n",
      "Experts have told the BBC that America's northern border is longer and less guarded than the southern one.\n",
      "\n",
      "One recent high-profile trial in the US shed light on smuggling operations that help foreign nationals move to North America unlawfully.\n",
      "\n",
      "A jury in the US state of Minnesota found two men guilty of helping bring an Indian family from Canada to the US in January 2022, leading to their deaths.\n",
      "\n",
      "Mark Miller, Canada's immigration minister, said on Tuesday that the US and Canada have a shared interest in making sure the border is \"manageable and controlled\".\n",
      "\n",
      "He added Canada is looking at a number of measures, including deploying additional resources and bolstering the number of agents to patrol the border.\n"
     ]
    }
   ],
   "source": [
    "title = json.loads(content).get(\"title\", \"\")\n",
    "author = json.loads(content).get(\"author\", \"\")\n",
    "content = json.loads(content).get(\"content\", \"\")\n",
    "\n",
    "print(f\"Title: {title}\\nAuthor: {author}\\nContent: {content}\")"
   ]
  },
  {
   "cell_type": "code",
   "execution_count": null,
   "metadata": {},
   "outputs": [],
   "source": []
  }
 ],
 "metadata": {
  "kernelspec": {
   "display_name": "Python 3",
   "language": "python",
   "name": "python3"
  },
  "language_info": {
   "codemirror_mode": {
    "name": "ipython",
    "version": 3
   },
   "file_extension": ".py",
   "mimetype": "text/x-python",
   "name": "python",
   "nbconvert_exporter": "python",
   "pygments_lexer": "ipython3",
   "version": "3.11.4"
  }
 },
 "nbformat": 4,
 "nbformat_minor": 2
}
